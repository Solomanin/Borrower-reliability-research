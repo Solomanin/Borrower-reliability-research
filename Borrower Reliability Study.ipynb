{
 "cells": [
  {
   "cell_type": "markdown",
   "metadata": {},
   "source": [
    "# Borrower Reliability Study\n",
    "\n",
    "The customer is the credit department of the bank. It is necessary to find out whether the marital status and the number of children of the client affect the fact of repaying the loan on time. Input data from the bank - statistics on the solvency of customers.\n",
    "\n",
    "The results of the study will be taken into account when building a **credit scoring** model - a special system that evaluates the ability of a potential borrower to return a loan to a bank."
   ]
  },
  {
   "cell_type": "markdown",
   "metadata": {},
   "source": [
    "## Step 1. Let's open the data file and study the general information"
   ]
  },
  {
   "cell_type": "code",
   "execution_count": 2,
   "metadata": {},
   "outputs": [
    {
     "data": {
      "text/html": [
       "<div>\n",
       "<style scoped>\n",
       "    .dataframe tbody tr th:only-of-type {\n",
       "        vertical-align: middle;\n",
       "    }\n",
       "\n",
       "    .dataframe tbody tr th {\n",
       "        vertical-align: top;\n",
       "    }\n",
       "\n",
       "    .dataframe thead th {\n",
       "        text-align: right;\n",
       "    }\n",
       "</style>\n",
       "<table border=\"1\" class=\"dataframe\">\n",
       "  <thead>\n",
       "    <tr style=\"text-align: right;\">\n",
       "      <th></th>\n",
       "      <th>children</th>\n",
       "      <th>days_employed</th>\n",
       "      <th>dob_years</th>\n",
       "      <th>education</th>\n",
       "      <th>education_id</th>\n",
       "      <th>family_status</th>\n",
       "      <th>family_status_id</th>\n",
       "      <th>gender</th>\n",
       "      <th>income_type</th>\n",
       "      <th>debt</th>\n",
       "      <th>total_income</th>\n",
       "      <th>purpose</th>\n",
       "    </tr>\n",
       "  </thead>\n",
       "  <tbody>\n",
       "    <tr>\n",
       "      <td>0</td>\n",
       "      <td>1</td>\n",
       "      <td>-8437.673028</td>\n",
       "      <td>42</td>\n",
       "      <td>высшее</td>\n",
       "      <td>0</td>\n",
       "      <td>женат / замужем</td>\n",
       "      <td>0</td>\n",
       "      <td>F</td>\n",
       "      <td>сотрудник</td>\n",
       "      <td>0</td>\n",
       "      <td>253875.639453</td>\n",
       "      <td>покупка жилья</td>\n",
       "    </tr>\n",
       "    <tr>\n",
       "      <td>1</td>\n",
       "      <td>1</td>\n",
       "      <td>-4024.803754</td>\n",
       "      <td>36</td>\n",
       "      <td>среднее</td>\n",
       "      <td>1</td>\n",
       "      <td>женат / замужем</td>\n",
       "      <td>0</td>\n",
       "      <td>F</td>\n",
       "      <td>сотрудник</td>\n",
       "      <td>0</td>\n",
       "      <td>112080.014102</td>\n",
       "      <td>приобретение автомобиля</td>\n",
       "    </tr>\n",
       "    <tr>\n",
       "      <td>2</td>\n",
       "      <td>0</td>\n",
       "      <td>-5623.422610</td>\n",
       "      <td>33</td>\n",
       "      <td>Среднее</td>\n",
       "      <td>1</td>\n",
       "      <td>женат / замужем</td>\n",
       "      <td>0</td>\n",
       "      <td>M</td>\n",
       "      <td>сотрудник</td>\n",
       "      <td>0</td>\n",
       "      <td>145885.952297</td>\n",
       "      <td>покупка жилья</td>\n",
       "    </tr>\n",
       "    <tr>\n",
       "      <td>3</td>\n",
       "      <td>3</td>\n",
       "      <td>-4124.747207</td>\n",
       "      <td>32</td>\n",
       "      <td>среднее</td>\n",
       "      <td>1</td>\n",
       "      <td>женат / замужем</td>\n",
       "      <td>0</td>\n",
       "      <td>M</td>\n",
       "      <td>сотрудник</td>\n",
       "      <td>0</td>\n",
       "      <td>267628.550329</td>\n",
       "      <td>дополнительное образование</td>\n",
       "    </tr>\n",
       "    <tr>\n",
       "      <td>4</td>\n",
       "      <td>0</td>\n",
       "      <td>340266.072047</td>\n",
       "      <td>53</td>\n",
       "      <td>среднее</td>\n",
       "      <td>1</td>\n",
       "      <td>гражданский брак</td>\n",
       "      <td>1</td>\n",
       "      <td>F</td>\n",
       "      <td>пенсионер</td>\n",
       "      <td>0</td>\n",
       "      <td>158616.077870</td>\n",
       "      <td>сыграть свадьбу</td>\n",
       "    </tr>\n",
       "    <tr>\n",
       "      <td>5</td>\n",
       "      <td>0</td>\n",
       "      <td>-926.185831</td>\n",
       "      <td>27</td>\n",
       "      <td>высшее</td>\n",
       "      <td>0</td>\n",
       "      <td>гражданский брак</td>\n",
       "      <td>1</td>\n",
       "      <td>M</td>\n",
       "      <td>компаньон</td>\n",
       "      <td>0</td>\n",
       "      <td>255763.565419</td>\n",
       "      <td>покупка жилья</td>\n",
       "    </tr>\n",
       "    <tr>\n",
       "      <td>6</td>\n",
       "      <td>0</td>\n",
       "      <td>-2879.202052</td>\n",
       "      <td>43</td>\n",
       "      <td>высшее</td>\n",
       "      <td>0</td>\n",
       "      <td>женат / замужем</td>\n",
       "      <td>0</td>\n",
       "      <td>F</td>\n",
       "      <td>компаньон</td>\n",
       "      <td>0</td>\n",
       "      <td>240525.971920</td>\n",
       "      <td>операции с жильем</td>\n",
       "    </tr>\n",
       "    <tr>\n",
       "      <td>7</td>\n",
       "      <td>0</td>\n",
       "      <td>-152.779569</td>\n",
       "      <td>50</td>\n",
       "      <td>СРЕДНЕЕ</td>\n",
       "      <td>1</td>\n",
       "      <td>женат / замужем</td>\n",
       "      <td>0</td>\n",
       "      <td>M</td>\n",
       "      <td>сотрудник</td>\n",
       "      <td>0</td>\n",
       "      <td>135823.934197</td>\n",
       "      <td>образование</td>\n",
       "    </tr>\n",
       "    <tr>\n",
       "      <td>8</td>\n",
       "      <td>2</td>\n",
       "      <td>-6929.865299</td>\n",
       "      <td>35</td>\n",
       "      <td>ВЫСШЕЕ</td>\n",
       "      <td>0</td>\n",
       "      <td>гражданский брак</td>\n",
       "      <td>1</td>\n",
       "      <td>F</td>\n",
       "      <td>сотрудник</td>\n",
       "      <td>0</td>\n",
       "      <td>95856.832424</td>\n",
       "      <td>на проведение свадьбы</td>\n",
       "    </tr>\n",
       "    <tr>\n",
       "      <td>9</td>\n",
       "      <td>0</td>\n",
       "      <td>-2188.756445</td>\n",
       "      <td>41</td>\n",
       "      <td>среднее</td>\n",
       "      <td>1</td>\n",
       "      <td>женат / замужем</td>\n",
       "      <td>0</td>\n",
       "      <td>M</td>\n",
       "      <td>сотрудник</td>\n",
       "      <td>0</td>\n",
       "      <td>144425.938277</td>\n",
       "      <td>покупка жилья для семьи</td>\n",
       "    </tr>\n",
       "  </tbody>\n",
       "</table>\n",
       "</div>"
      ],
      "text/plain": [
       "   children  days_employed  dob_years education  education_id  \\\n",
       "0         1   -8437.673028         42    высшее             0   \n",
       "1         1   -4024.803754         36   среднее             1   \n",
       "2         0   -5623.422610         33   Среднее             1   \n",
       "3         3   -4124.747207         32   среднее             1   \n",
       "4         0  340266.072047         53   среднее             1   \n",
       "5         0    -926.185831         27    высшее             0   \n",
       "6         0   -2879.202052         43    высшее             0   \n",
       "7         0    -152.779569         50   СРЕДНЕЕ             1   \n",
       "8         2   -6929.865299         35    ВЫСШЕЕ             0   \n",
       "9         0   -2188.756445         41   среднее             1   \n",
       "\n",
       "      family_status  family_status_id gender income_type  debt   total_income  \\\n",
       "0   женат / замужем                 0      F   сотрудник     0  253875.639453   \n",
       "1   женат / замужем                 0      F   сотрудник     0  112080.014102   \n",
       "2   женат / замужем                 0      M   сотрудник     0  145885.952297   \n",
       "3   женат / замужем                 0      M   сотрудник     0  267628.550329   \n",
       "4  гражданский брак                 1      F   пенсионер     0  158616.077870   \n",
       "5  гражданский брак                 1      M   компаньон     0  255763.565419   \n",
       "6   женат / замужем                 0      F   компаньон     0  240525.971920   \n",
       "7   женат / замужем                 0      M   сотрудник     0  135823.934197   \n",
       "8  гражданский брак                 1      F   сотрудник     0   95856.832424   \n",
       "9   женат / замужем                 0      M   сотрудник     0  144425.938277   \n",
       "\n",
       "                      purpose  \n",
       "0               покупка жилья  \n",
       "1     приобретение автомобиля  \n",
       "2               покупка жилья  \n",
       "3  дополнительное образование  \n",
       "4             сыграть свадьбу  \n",
       "5               покупка жилья  \n",
       "6           операции с жильем  \n",
       "7                 образование  \n",
       "8       на проведение свадьбы  \n",
       "9     покупка жилья для семьи  "
      ]
     },
     "execution_count": 2,
     "metadata": {},
     "output_type": "execute_result"
    }
   ],
   "source": [
    "import pandas as pd\n",
    "\n",
    "df = pd.read_csv(\"/datasets/data.csv\")\n",
    "df.head(10)\n",
    "\n"
   ]
  },
  {
   "cell_type": "markdown",
   "metadata": {},
   "source": [
    "## Step 2. Data preprocessing"
   ]
  },
  {
   "cell_type": "markdown",
   "metadata": {},
   "source": [
    "### Pass processing"
   ]
  },
  {
   "cell_type": "code",
   "execution_count": 3,
   "metadata": {},
   "outputs": [
    {
     "name": "stdout",
     "output_type": "stream",
     "text": [
      "<class 'pandas.core.frame.DataFrame'>\n",
      "RangeIndex: 21525 entries, 0 to 21524\n",
      "Data columns (total 12 columns):\n",
      "children            21525 non-null int64\n",
      "days_employed       19351 non-null float64\n",
      "dob_years           21525 non-null int64\n",
      "education           21525 non-null object\n",
      "education_id        21525 non-null int64\n",
      "family_status       21525 non-null object\n",
      "family_status_id    21525 non-null int64\n",
      "gender              21525 non-null object\n",
      "income_type         21525 non-null object\n",
      "debt                21525 non-null int64\n",
      "total_income        19351 non-null float64\n",
      "purpose             21525 non-null object\n",
      "dtypes: float64(2), int64(5), object(5)\n",
      "memory usage: 2.0+ MB\n"
     ]
    }
   ],
   "source": [
    "# getting general information about data in df table\n",
    "df.info()\n"
   ]
  },
  {
   "cell_type": "code",
   "execution_count": 4,
   "metadata": {},
   "outputs": [
    {
     "name": "stdout",
     "output_type": "stream",
     "text": [
      "children               0\n",
      "days_employed       2174\n",
      "dob_years              0\n",
      "education              0\n",
      "education_id           0\n",
      "family_status          0\n",
      "family_status_id       0\n",
      "gender                 0\n",
      "income_type            0\n",
      "debt                   0\n",
      "total_income        2174\n",
      "purpose                0\n",
      "dtype: int64\n"
     ]
    }
   ],
   "source": [
    "# skip count\n",
    "print(df.isna().sum())\n"
   ]
  },
  {
   "cell_type": "markdown",
   "metadata": {},
   "source": [
    "Gaps in \"days_employed\" and \"total_income\" columns\n",
    "I think that this is no accident, because not everyone wants to say how much they earn and how much they have worked at work.\n",
    "Because the number of passes total_income and days_employed are the same\n",
    "Let's replace these values ​​with averages, although ideally you need to know these data, because they may affect the study."
   ]
  },
  {
   "cell_type": "code",
   "execution_count": 5,
   "metadata": {},
   "outputs": [],
   "source": [
    "ti_avg = df[\"total_income\"].mean()\n",
    "df[\"total_income\"] = df[\"total_income\"].fillna(value=ti_avg)\n",
    "de_avg = df[\"days_employed\"].mean()\n",
    "df[\"days_employed\"] = df[\"days_employed\"].fillna(value=de_avg)"
   ]
  },
  {
   "cell_type": "code",
   "execution_count": 6,
   "metadata": {},
   "outputs": [
    {
     "name": "stdout",
     "output_type": "stream",
     "text": [
      "children            0\n",
      "days_employed       0\n",
      "dob_years           0\n",
      "education           0\n",
      "education_id        0\n",
      "family_status       0\n",
      "family_status_id    0\n",
      "gender              0\n",
      "income_type         0\n",
      "debt                0\n",
      "total_income        0\n",
      "purpose             0\n",
      "dtype: int64\n"
     ]
    }
   ],
   "source": [
    "# count the number of passes again\n",
    "print(df.isna().sum())\n"
   ]
  },
  {
   "cell_type": "markdown",
   "metadata": {},
   "source": [
    "**Replace gaps with averages**"
   ]
  },
  {
   "cell_type": "markdown",
   "metadata": {},
   "source": [
    "### Replacing the data type"
   ]
  },
  {
   "cell_type": "code",
   "execution_count": 7,
   "metadata": {},
   "outputs": [],
   "source": [
    "df[\"days_employed\"] = df[\"days_employed\"].astype(\"int\")\n",
    "df[\"total_income\"] = df[\"total_income\"].astype(\"int\")\n",
    "\n"
   ]
  },
  {
   "cell_type": "code",
   "execution_count": 8,
   "metadata": {},
   "outputs": [
    {
     "data": {
      "text/html": [
       "<div>\n",
       "<style scoped>\n",
       "    .dataframe tbody tr th:only-of-type {\n",
       "        vertical-align: middle;\n",
       "    }\n",
       "\n",
       "    .dataframe tbody tr th {\n",
       "        vertical-align: top;\n",
       "    }\n",
       "\n",
       "    .dataframe thead th {\n",
       "        text-align: right;\n",
       "    }\n",
       "</style>\n",
       "<table border=\"1\" class=\"dataframe\">\n",
       "  <thead>\n",
       "    <tr style=\"text-align: right;\">\n",
       "      <th></th>\n",
       "      <th>children</th>\n",
       "      <th>days_employed</th>\n",
       "      <th>dob_years</th>\n",
       "      <th>education</th>\n",
       "      <th>education_id</th>\n",
       "      <th>family_status</th>\n",
       "      <th>family_status_id</th>\n",
       "      <th>gender</th>\n",
       "      <th>income_type</th>\n",
       "      <th>debt</th>\n",
       "      <th>total_income</th>\n",
       "      <th>purpose</th>\n",
       "    </tr>\n",
       "  </thead>\n",
       "  <tbody>\n",
       "    <tr>\n",
       "      <td>0</td>\n",
       "      <td>1</td>\n",
       "      <td>-8437</td>\n",
       "      <td>42</td>\n",
       "      <td>высшее</td>\n",
       "      <td>0</td>\n",
       "      <td>женат / замужем</td>\n",
       "      <td>0</td>\n",
       "      <td>F</td>\n",
       "      <td>сотрудник</td>\n",
       "      <td>0</td>\n",
       "      <td>253875</td>\n",
       "      <td>покупка жилья</td>\n",
       "    </tr>\n",
       "    <tr>\n",
       "      <td>1</td>\n",
       "      <td>1</td>\n",
       "      <td>-4024</td>\n",
       "      <td>36</td>\n",
       "      <td>среднее</td>\n",
       "      <td>1</td>\n",
       "      <td>женат / замужем</td>\n",
       "      <td>0</td>\n",
       "      <td>F</td>\n",
       "      <td>сотрудник</td>\n",
       "      <td>0</td>\n",
       "      <td>112080</td>\n",
       "      <td>приобретение автомобиля</td>\n",
       "    </tr>\n",
       "    <tr>\n",
       "      <td>2</td>\n",
       "      <td>0</td>\n",
       "      <td>-5623</td>\n",
       "      <td>33</td>\n",
       "      <td>Среднее</td>\n",
       "      <td>1</td>\n",
       "      <td>женат / замужем</td>\n",
       "      <td>0</td>\n",
       "      <td>M</td>\n",
       "      <td>сотрудник</td>\n",
       "      <td>0</td>\n",
       "      <td>145885</td>\n",
       "      <td>покупка жилья</td>\n",
       "    </tr>\n",
       "    <tr>\n",
       "      <td>3</td>\n",
       "      <td>3</td>\n",
       "      <td>-4124</td>\n",
       "      <td>32</td>\n",
       "      <td>среднее</td>\n",
       "      <td>1</td>\n",
       "      <td>женат / замужем</td>\n",
       "      <td>0</td>\n",
       "      <td>M</td>\n",
       "      <td>сотрудник</td>\n",
       "      <td>0</td>\n",
       "      <td>267628</td>\n",
       "      <td>дополнительное образование</td>\n",
       "    </tr>\n",
       "    <tr>\n",
       "      <td>4</td>\n",
       "      <td>0</td>\n",
       "      <td>340266</td>\n",
       "      <td>53</td>\n",
       "      <td>среднее</td>\n",
       "      <td>1</td>\n",
       "      <td>гражданский брак</td>\n",
       "      <td>1</td>\n",
       "      <td>F</td>\n",
       "      <td>пенсионер</td>\n",
       "      <td>0</td>\n",
       "      <td>158616</td>\n",
       "      <td>сыграть свадьбу</td>\n",
       "    </tr>\n",
       "  </tbody>\n",
       "</table>\n",
       "</div>"
      ],
      "text/plain": [
       "   children  days_employed  dob_years education  education_id  \\\n",
       "0         1          -8437         42    высшее             0   \n",
       "1         1          -4024         36   среднее             1   \n",
       "2         0          -5623         33   Среднее             1   \n",
       "3         3          -4124         32   среднее             1   \n",
       "4         0         340266         53   среднее             1   \n",
       "\n",
       "      family_status  family_status_id gender income_type  debt  total_income  \\\n",
       "0   женат / замужем                 0      F   сотрудник     0        253875   \n",
       "1   женат / замужем                 0      F   сотрудник     0        112080   \n",
       "2   женат / замужем                 0      M   сотрудник     0        145885   \n",
       "3   женат / замужем                 0      M   сотрудник     0        267628   \n",
       "4  гражданский брак                 1      F   пенсионер     0        158616   \n",
       "\n",
       "                      purpose  \n",
       "0               покупка жилья  \n",
       "1     приобретение автомобиля  \n",
       "2               покупка жилья  \n",
       "3  дополнительное образование  \n",
       "4             сыграть свадьбу  "
      ]
     },
     "execution_count": 8,
     "metadata": {},
     "output_type": "execute_result"
    }
   ],
   "source": [
    "# check\n",
    "df.head()"
   ]
  },
  {
   "cell_type": "markdown",
   "metadata": {},
   "source": [
    "**We have replaced the real data type with the integer type \"astype\"**"
   ]
  },
  {
   "cell_type": "markdown",
   "metadata": {},
   "source": [
    "### Duplicate Handling"
   ]
  },
  {
   "cell_type": "code",
   "execution_count": 9,
   "metadata": {},
   "outputs": [
    {
     "name": "stdout",
     "output_type": "stream",
     "text": [
      "54\n"
     ]
    }
   ],
   "source": [
    "# count the number of obvious duplicates\n",
    "print(df.duplicated().sum())\n"
   ]
  },
  {
   "cell_type": "code",
   "execution_count": 10,
   "metadata": {},
   "outputs": [
    {
     "name": "stdout",
     "output_type": "stream",
     "text": [
      "0\n"
     ]
    }
   ],
   "source": [
    "# delete them\n",
    "df = df.drop_duplicates().reset_index(drop=True)\n",
    "print(df.duplicated().sum())"
   ]
  },
  {
   "cell_type": "markdown",
   "metadata": {},
   "source": [
    "**Duplicates can appear for various reasons. For example, a technical error or a human factor.**"
   ]
  },
  {
   "cell_type": "markdown",
   "metadata": {},
   "source": [
    "### Lemmatization"
   ]
  },
  {
   "cell_type": "code",
   "execution_count": 11,
   "metadata": {
    "scrolled": true
   },
   "outputs": [
    {
     "data": {
      "text/plain": [
       "[(' ', 33596),\n",
       " ('\\n', 21471),\n",
       " ('недвижимость', 6353),\n",
       " ('покупка', 5900),\n",
       " ('жилье', 4461),\n",
       " ('автомобиль', 4308),\n",
       " ('образование', 4014),\n",
       " ('с', 2918),\n",
       " ('операция', 2604),\n",
       " ('свадьба', 2335),\n",
       " ('свой', 2231),\n",
       " ('на', 2228),\n",
       " ('строительство', 1879),\n",
       " ('высокий', 1374),\n",
       " ('получение', 1315),\n",
       " ('коммерческий', 1312),\n",
       " ('для', 1290),\n",
       " ('жилой', 1231),\n",
       " ('сделка', 941),\n",
       " ('дополнительный', 907),\n",
       " ('заниматься', 904),\n",
       " ('проведение', 773),\n",
       " ('сыграть', 769),\n",
       " ('сдача', 652),\n",
       " ('семья', 638),\n",
       " ('собственный', 635),\n",
       " ('со', 627),\n",
       " ('ремонт', 607),\n",
       " ('подержанный', 486),\n",
       " ('подержать', 478),\n",
       " ('приобретение', 461),\n",
       " ('профильный', 436)]"
      ]
     },
     "execution_count": 11,
     "metadata": {},
     "output_type": "execute_result"
    }
   ],
   "source": [
    "# Importing a library for lemmatization of the loan purposes column and for counting\n",
    "from pymystem3 import Mystem\n",
    "from collections import Counter\n",
    "# create an empty list where we put our lemmatization values\n",
    "list = []\n",
    "m = Mystem()\n",
    "# create a loop and go through each value from the column, and then count which words were more\n",
    "for el in df[\"purpose\"]:\n",
    "    lemma = m.lemmatize(el)\n",
    "    list.extend(lemma)\n",
    "count_lemmas = Counter(list)\n",
    "sorted(count_lemmas.items(), key = lambda pair:pair[1], reverse=True)\n"
   ]
  },
  {
   "cell_type": "markdown",
   "metadata": {},
   "source": [
    "In order to categorize data by goals, you first need to derive the most important goals, and simplify them"
   ]
  },
  {
   "cell_type": "code",
   "execution_count": 12,
   "metadata": {
    "scrolled": true
   },
   "outputs": [
    {
     "name": "stdout",
     "output_type": "stream",
     "text": [
      "['недвижим', 'жил', 'автомобил', 'образован', 'свадьб']\n"
     ]
    }
   ],
   "source": [
    "from nltk.stem import SnowballStemmer \n",
    "russian_stemmer = SnowballStemmer('russian') \n",
    "#we do not take the word purchase, since this word can be used for everything.\n",
    "final_list = [\"недвижимость\", \"жилье\", \"автомобиль\", \"образование\", \"свадьба\"]\n",
    "\n",
    "stemmed_purposes = [russian_stemmer.stem(w) for w in final_list]\n",
    "print(stemmed_purposes)"
   ]
  },
  {
   "cell_type": "code",
   "execution_count": 13,
   "metadata": {},
   "outputs": [
    {
     "name": "stdout",
     "output_type": "stream",
     "text": [
      "{'недвижим': 1, 'жил': 1, 'автомобил': 2, 'образован': 3, 'свадьб': 4}\n"
     ]
    }
   ],
   "source": [
    "# now numbering the dictionary\n",
    "dict_stemmed_purposes = {v:k for k,v in enumerate(stemmed_purposes)}\n",
    "dict_stemmed_purposes[\"недвижим\"] = 1\n",
    "print(dict_stemmed_purposes)"
   ]
  },
  {
   "cell_type": "code",
   "execution_count": 14,
   "metadata": {},
   "outputs": [
    {
     "data": {
      "text/html": [
       "<div>\n",
       "<style scoped>\n",
       "    .dataframe tbody tr th:only-of-type {\n",
       "        vertical-align: middle;\n",
       "    }\n",
       "\n",
       "    .dataframe tbody tr th {\n",
       "        vertical-align: top;\n",
       "    }\n",
       "\n",
       "    .dataframe thead th {\n",
       "        text-align: right;\n",
       "    }\n",
       "</style>\n",
       "<table border=\"1\" class=\"dataframe\">\n",
       "  <thead>\n",
       "    <tr style=\"text-align: right;\">\n",
       "      <th></th>\n",
       "      <th>children</th>\n",
       "      <th>days_employed</th>\n",
       "      <th>dob_years</th>\n",
       "      <th>education</th>\n",
       "      <th>education_id</th>\n",
       "      <th>family_status</th>\n",
       "      <th>family_status_id</th>\n",
       "      <th>gender</th>\n",
       "      <th>income_type</th>\n",
       "      <th>debt</th>\n",
       "      <th>total_income</th>\n",
       "      <th>purpose</th>\n",
       "      <th>purpose_cat</th>\n",
       "    </tr>\n",
       "  </thead>\n",
       "  <tbody>\n",
       "    <tr>\n",
       "      <td>0</td>\n",
       "      <td>1</td>\n",
       "      <td>-8437</td>\n",
       "      <td>42</td>\n",
       "      <td>высшее</td>\n",
       "      <td>0</td>\n",
       "      <td>женат / замужем</td>\n",
       "      <td>0</td>\n",
       "      <td>F</td>\n",
       "      <td>сотрудник</td>\n",
       "      <td>0</td>\n",
       "      <td>253875</td>\n",
       "      <td>покупка жилья</td>\n",
       "      <td>1</td>\n",
       "    </tr>\n",
       "    <tr>\n",
       "      <td>1</td>\n",
       "      <td>1</td>\n",
       "      <td>-4024</td>\n",
       "      <td>36</td>\n",
       "      <td>среднее</td>\n",
       "      <td>1</td>\n",
       "      <td>женат / замужем</td>\n",
       "      <td>0</td>\n",
       "      <td>F</td>\n",
       "      <td>сотрудник</td>\n",
       "      <td>0</td>\n",
       "      <td>112080</td>\n",
       "      <td>приобретение автомобиля</td>\n",
       "      <td>2</td>\n",
       "    </tr>\n",
       "    <tr>\n",
       "      <td>2</td>\n",
       "      <td>0</td>\n",
       "      <td>-5623</td>\n",
       "      <td>33</td>\n",
       "      <td>Среднее</td>\n",
       "      <td>1</td>\n",
       "      <td>женат / замужем</td>\n",
       "      <td>0</td>\n",
       "      <td>M</td>\n",
       "      <td>сотрудник</td>\n",
       "      <td>0</td>\n",
       "      <td>145885</td>\n",
       "      <td>покупка жилья</td>\n",
       "      <td>1</td>\n",
       "    </tr>\n",
       "    <tr>\n",
       "      <td>3</td>\n",
       "      <td>3</td>\n",
       "      <td>-4124</td>\n",
       "      <td>32</td>\n",
       "      <td>среднее</td>\n",
       "      <td>1</td>\n",
       "      <td>женат / замужем</td>\n",
       "      <td>0</td>\n",
       "      <td>M</td>\n",
       "      <td>сотрудник</td>\n",
       "      <td>0</td>\n",
       "      <td>267628</td>\n",
       "      <td>дополнительное образование</td>\n",
       "      <td>3</td>\n",
       "    </tr>\n",
       "    <tr>\n",
       "      <td>4</td>\n",
       "      <td>0</td>\n",
       "      <td>340266</td>\n",
       "      <td>53</td>\n",
       "      <td>среднее</td>\n",
       "      <td>1</td>\n",
       "      <td>гражданский брак</td>\n",
       "      <td>1</td>\n",
       "      <td>F</td>\n",
       "      <td>пенсионер</td>\n",
       "      <td>0</td>\n",
       "      <td>158616</td>\n",
       "      <td>сыграть свадьбу</td>\n",
       "      <td>4</td>\n",
       "    </tr>\n",
       "  </tbody>\n",
       "</table>\n",
       "</div>"
      ],
      "text/plain": [
       "   children  days_employed  dob_years education  education_id  \\\n",
       "0         1          -8437         42    высшее             0   \n",
       "1         1          -4024         36   среднее             1   \n",
       "2         0          -5623         33   Среднее             1   \n",
       "3         3          -4124         32   среднее             1   \n",
       "4         0         340266         53   среднее             1   \n",
       "\n",
       "      family_status  family_status_id gender income_type  debt  total_income  \\\n",
       "0   женат / замужем                 0      F   сотрудник     0        253875   \n",
       "1   женат / замужем                 0      F   сотрудник     0        112080   \n",
       "2   женат / замужем                 0      M   сотрудник     0        145885   \n",
       "3   женат / замужем                 0      M   сотрудник     0        267628   \n",
       "4  гражданский брак                 1      F   пенсионер     0        158616   \n",
       "\n",
       "                      purpose  purpose_cat  \n",
       "0               покупка жилья            1  \n",
       "1     приобретение автомобиля            2  \n",
       "2               покупка жилья            1  \n",
       "3  дополнительное образование            3  \n",
       "4             сыграть свадьбу            4  "
      ]
     },
     "execution_count": 14,
     "metadata": {},
     "output_type": "execute_result"
    }
   ],
   "source": [
    "# create table purspose_cat\n",
    "df[\"purpose_cat\"]=0\n",
    "for row in range(len(df)):\n",
    "    for purp in dict_stemmed_purposes:\n",
    "        if purp in df.iloc[row,11]:\n",
    "            df.iloc[row,12]= dict_stemmed_purposes[purp]\n",
    "    \n",
    "df.head()    \n",
    "    \n",
    "    "
   ]
  },
  {
   "cell_type": "markdown",
   "metadata": {},
   "source": [
    "# Here we have already categorized the data by purpose"
   ]
  },
  {
   "cell_type": "markdown",
   "metadata": {},
   "source": [
    "**We can say the top 5 things people take out a loan for (we will remove the word purchase from here, since it can be used for everything):\n",
    "      1. Real estate\n",
    "      2 Housing\n",
    "      3. Car\n",
    "      4. Education\n",
    "      5. Wedding**"
   ]
  },
  {
   "cell_type": "code",
   "execution_count": 15,
   "metadata": {},
   "outputs": [
    {
     "data": {
      "text/html": [
       "<div>\n",
       "<style scoped>\n",
       "    .dataframe tbody tr th:only-of-type {\n",
       "        vertical-align: middle;\n",
       "    }\n",
       "\n",
       "    .dataframe tbody tr th {\n",
       "        vertical-align: top;\n",
       "    }\n",
       "\n",
       "    .dataframe thead th {\n",
       "        text-align: right;\n",
       "    }\n",
       "</style>\n",
       "<table border=\"1\" class=\"dataframe\">\n",
       "  <thead>\n",
       "    <tr style=\"text-align: right;\">\n",
       "      <th></th>\n",
       "      <th>children</th>\n",
       "      <th>days_employed</th>\n",
       "      <th>dob_years</th>\n",
       "      <th>education</th>\n",
       "      <th>education_id</th>\n",
       "      <th>family_status</th>\n",
       "      <th>family_status_id</th>\n",
       "      <th>gender</th>\n",
       "      <th>income_type</th>\n",
       "      <th>debt</th>\n",
       "      <th>total_income</th>\n",
       "      <th>purpose</th>\n",
       "      <th>purpose_cat</th>\n",
       "    </tr>\n",
       "  </thead>\n",
       "  <tbody>\n",
       "    <tr>\n",
       "      <td>0</td>\n",
       "      <td>1</td>\n",
       "      <td>8437</td>\n",
       "      <td>42</td>\n",
       "      <td>высшее</td>\n",
       "      <td>0</td>\n",
       "      <td>женат / замужем</td>\n",
       "      <td>0</td>\n",
       "      <td>F</td>\n",
       "      <td>сотрудник</td>\n",
       "      <td>0</td>\n",
       "      <td>253875</td>\n",
       "      <td>покупка жилья</td>\n",
       "      <td>1</td>\n",
       "    </tr>\n",
       "    <tr>\n",
       "      <td>1</td>\n",
       "      <td>1</td>\n",
       "      <td>4024</td>\n",
       "      <td>36</td>\n",
       "      <td>среднее</td>\n",
       "      <td>1</td>\n",
       "      <td>женат / замужем</td>\n",
       "      <td>0</td>\n",
       "      <td>F</td>\n",
       "      <td>сотрудник</td>\n",
       "      <td>0</td>\n",
       "      <td>112080</td>\n",
       "      <td>приобретение автомобиля</td>\n",
       "      <td>2</td>\n",
       "    </tr>\n",
       "    <tr>\n",
       "      <td>2</td>\n",
       "      <td>0</td>\n",
       "      <td>5623</td>\n",
       "      <td>33</td>\n",
       "      <td>Среднее</td>\n",
       "      <td>1</td>\n",
       "      <td>женат / замужем</td>\n",
       "      <td>0</td>\n",
       "      <td>M</td>\n",
       "      <td>сотрудник</td>\n",
       "      <td>0</td>\n",
       "      <td>145885</td>\n",
       "      <td>покупка жилья</td>\n",
       "      <td>1</td>\n",
       "    </tr>\n",
       "    <tr>\n",
       "      <td>3</td>\n",
       "      <td>3</td>\n",
       "      <td>4124</td>\n",
       "      <td>32</td>\n",
       "      <td>среднее</td>\n",
       "      <td>1</td>\n",
       "      <td>женат / замужем</td>\n",
       "      <td>0</td>\n",
       "      <td>M</td>\n",
       "      <td>сотрудник</td>\n",
       "      <td>0</td>\n",
       "      <td>267628</td>\n",
       "      <td>дополнительное образование</td>\n",
       "      <td>3</td>\n",
       "    </tr>\n",
       "    <tr>\n",
       "      <td>4</td>\n",
       "      <td>0</td>\n",
       "      <td>340266</td>\n",
       "      <td>53</td>\n",
       "      <td>среднее</td>\n",
       "      <td>1</td>\n",
       "      <td>гражданский брак</td>\n",
       "      <td>1</td>\n",
       "      <td>F</td>\n",
       "      <td>пенсионер</td>\n",
       "      <td>0</td>\n",
       "      <td>158616</td>\n",
       "      <td>сыграть свадьбу</td>\n",
       "      <td>4</td>\n",
       "    </tr>\n",
       "    <tr>\n",
       "      <td>5</td>\n",
       "      <td>0</td>\n",
       "      <td>926</td>\n",
       "      <td>27</td>\n",
       "      <td>высшее</td>\n",
       "      <td>0</td>\n",
       "      <td>гражданский брак</td>\n",
       "      <td>1</td>\n",
       "      <td>M</td>\n",
       "      <td>компаньон</td>\n",
       "      <td>0</td>\n",
       "      <td>255763</td>\n",
       "      <td>покупка жилья</td>\n",
       "      <td>1</td>\n",
       "    </tr>\n",
       "    <tr>\n",
       "      <td>6</td>\n",
       "      <td>0</td>\n",
       "      <td>2879</td>\n",
       "      <td>43</td>\n",
       "      <td>высшее</td>\n",
       "      <td>0</td>\n",
       "      <td>женат / замужем</td>\n",
       "      <td>0</td>\n",
       "      <td>F</td>\n",
       "      <td>компаньон</td>\n",
       "      <td>0</td>\n",
       "      <td>240525</td>\n",
       "      <td>операции с жильем</td>\n",
       "      <td>1</td>\n",
       "    </tr>\n",
       "    <tr>\n",
       "      <td>7</td>\n",
       "      <td>0</td>\n",
       "      <td>152</td>\n",
       "      <td>50</td>\n",
       "      <td>СРЕДНЕЕ</td>\n",
       "      <td>1</td>\n",
       "      <td>женат / замужем</td>\n",
       "      <td>0</td>\n",
       "      <td>M</td>\n",
       "      <td>сотрудник</td>\n",
       "      <td>0</td>\n",
       "      <td>135823</td>\n",
       "      <td>образование</td>\n",
       "      <td>3</td>\n",
       "    </tr>\n",
       "    <tr>\n",
       "      <td>8</td>\n",
       "      <td>2</td>\n",
       "      <td>6929</td>\n",
       "      <td>35</td>\n",
       "      <td>ВЫСШЕЕ</td>\n",
       "      <td>0</td>\n",
       "      <td>гражданский брак</td>\n",
       "      <td>1</td>\n",
       "      <td>F</td>\n",
       "      <td>сотрудник</td>\n",
       "      <td>0</td>\n",
       "      <td>95856</td>\n",
       "      <td>на проведение свадьбы</td>\n",
       "      <td>4</td>\n",
       "    </tr>\n",
       "    <tr>\n",
       "      <td>9</td>\n",
       "      <td>0</td>\n",
       "      <td>2188</td>\n",
       "      <td>41</td>\n",
       "      <td>среднее</td>\n",
       "      <td>1</td>\n",
       "      <td>женат / замужем</td>\n",
       "      <td>0</td>\n",
       "      <td>M</td>\n",
       "      <td>сотрудник</td>\n",
       "      <td>0</td>\n",
       "      <td>144425</td>\n",
       "      <td>покупка жилья для семьи</td>\n",
       "      <td>1</td>\n",
       "    </tr>\n",
       "  </tbody>\n",
       "</table>\n",
       "</div>"
      ],
      "text/plain": [
       "   children  days_employed  dob_years education  education_id  \\\n",
       "0         1           8437         42    высшее             0   \n",
       "1         1           4024         36   среднее             1   \n",
       "2         0           5623         33   Среднее             1   \n",
       "3         3           4124         32   среднее             1   \n",
       "4         0         340266         53   среднее             1   \n",
       "5         0            926         27    высшее             0   \n",
       "6         0           2879         43    высшее             0   \n",
       "7         0            152         50   СРЕДНЕЕ             1   \n",
       "8         2           6929         35    ВЫСШЕЕ             0   \n",
       "9         0           2188         41   среднее             1   \n",
       "\n",
       "      family_status  family_status_id gender income_type  debt  total_income  \\\n",
       "0   женат / замужем                 0      F   сотрудник     0        253875   \n",
       "1   женат / замужем                 0      F   сотрудник     0        112080   \n",
       "2   женат / замужем                 0      M   сотрудник     0        145885   \n",
       "3   женат / замужем                 0      M   сотрудник     0        267628   \n",
       "4  гражданский брак                 1      F   пенсионер     0        158616   \n",
       "5  гражданский брак                 1      M   компаньон     0        255763   \n",
       "6   женат / замужем                 0      F   компаньон     0        240525   \n",
       "7   женат / замужем                 0      M   сотрудник     0        135823   \n",
       "8  гражданский брак                 1      F   сотрудник     0         95856   \n",
       "9   женат / замужем                 0      M   сотрудник     0        144425   \n",
       "\n",
       "                      purpose  purpose_cat  \n",
       "0               покупка жилья            1  \n",
       "1     приобретение автомобиля            2  \n",
       "2               покупка жилья            1  \n",
       "3  дополнительное образование            3  \n",
       "4             сыграть свадьбу            4  \n",
       "5               покупка жилья            1  \n",
       "6           операции с жильем            1  \n",
       "7                 образование            3  \n",
       "8       на проведение свадьбы            4  \n",
       "9     покупка жилья для семьи            1  "
      ]
     },
     "execution_count": 15,
     "metadata": {},
     "output_type": "execute_result"
    }
   ],
   "source": [
    "# Take the value of days_employed and total_income of the abs() methods\n",
    "df[[\"days_employed\", \"total_income\"]] = df[[\"days_employed\", \"total_income\"]].abs()\n",
    "df.head(10)"
   ]
  },
  {
   "cell_type": "markdown",
   "metadata": {},
   "source": [
    "### Data categorization"
   ]
  },
  {
   "cell_type": "markdown",
   "metadata": {},
   "source": [
    "  Categorize data separately by column"
   ]
  },
  {
   "cell_type": "code",
   "execution_count": 16,
   "metadata": {
    "scrolled": false
   },
   "outputs": [
    {
     "data": {
      "text/html": [
       "<div>\n",
       "<style scoped>\n",
       "    .dataframe tbody tr th:only-of-type {\n",
       "        vertical-align: middle;\n",
       "    }\n",
       "\n",
       "    .dataframe tbody tr th {\n",
       "        vertical-align: top;\n",
       "    }\n",
       "\n",
       "    .dataframe thead th {\n",
       "        text-align: right;\n",
       "    }\n",
       "</style>\n",
       "<table border=\"1\" class=\"dataframe\">\n",
       "  <thead>\n",
       "    <tr style=\"text-align: right;\">\n",
       "      <th></th>\n",
       "      <th>children</th>\n",
       "      <th>days_employed</th>\n",
       "      <th>dob_years</th>\n",
       "      <th>education</th>\n",
       "      <th>education_id</th>\n",
       "      <th>family_status</th>\n",
       "      <th>family_status_id</th>\n",
       "      <th>gender</th>\n",
       "      <th>income_type</th>\n",
       "      <th>debt</th>\n",
       "      <th>total_income</th>\n",
       "      <th>purpose</th>\n",
       "      <th>purpose_cat</th>\n",
       "      <th>salary_cat</th>\n",
       "      <th>children_cat</th>\n",
       "    </tr>\n",
       "  </thead>\n",
       "  <tbody>\n",
       "    <tr>\n",
       "      <td>0</td>\n",
       "      <td>1</td>\n",
       "      <td>8437</td>\n",
       "      <td>42</td>\n",
       "      <td>высшее</td>\n",
       "      <td>0</td>\n",
       "      <td>женат / замужем</td>\n",
       "      <td>0</td>\n",
       "      <td>F</td>\n",
       "      <td>сотрудник</td>\n",
       "      <td>0</td>\n",
       "      <td>253875</td>\n",
       "      <td>покупка жилья</td>\n",
       "      <td>1</td>\n",
       "      <td>wealthy</td>\n",
       "      <td>1-2 ребенка</td>\n",
       "    </tr>\n",
       "    <tr>\n",
       "      <td>1</td>\n",
       "      <td>1</td>\n",
       "      <td>4024</td>\n",
       "      <td>36</td>\n",
       "      <td>среднее</td>\n",
       "      <td>1</td>\n",
       "      <td>женат / замужем</td>\n",
       "      <td>0</td>\n",
       "      <td>F</td>\n",
       "      <td>сотрудник</td>\n",
       "      <td>0</td>\n",
       "      <td>112080</td>\n",
       "      <td>приобретение автомобиля</td>\n",
       "      <td>2</td>\n",
       "      <td>rich</td>\n",
       "      <td>1-2 ребенка</td>\n",
       "    </tr>\n",
       "    <tr>\n",
       "      <td>2</td>\n",
       "      <td>0</td>\n",
       "      <td>5623</td>\n",
       "      <td>33</td>\n",
       "      <td>Среднее</td>\n",
       "      <td>1</td>\n",
       "      <td>женат / замужем</td>\n",
       "      <td>0</td>\n",
       "      <td>M</td>\n",
       "      <td>сотрудник</td>\n",
       "      <td>0</td>\n",
       "      <td>145885</td>\n",
       "      <td>покупка жилья</td>\n",
       "      <td>1</td>\n",
       "      <td>rich</td>\n",
       "      <td>нет детей</td>\n",
       "    </tr>\n",
       "    <tr>\n",
       "      <td>3</td>\n",
       "      <td>3</td>\n",
       "      <td>4124</td>\n",
       "      <td>32</td>\n",
       "      <td>среднее</td>\n",
       "      <td>1</td>\n",
       "      <td>женат / замужем</td>\n",
       "      <td>0</td>\n",
       "      <td>M</td>\n",
       "      <td>сотрудник</td>\n",
       "      <td>0</td>\n",
       "      <td>267628</td>\n",
       "      <td>дополнительное образование</td>\n",
       "      <td>3</td>\n",
       "      <td>wealthy</td>\n",
       "      <td>многодетная семья</td>\n",
       "    </tr>\n",
       "    <tr>\n",
       "      <td>4</td>\n",
       "      <td>0</td>\n",
       "      <td>340266</td>\n",
       "      <td>53</td>\n",
       "      <td>среднее</td>\n",
       "      <td>1</td>\n",
       "      <td>гражданский брак</td>\n",
       "      <td>1</td>\n",
       "      <td>F</td>\n",
       "      <td>пенсионер</td>\n",
       "      <td>0</td>\n",
       "      <td>158616</td>\n",
       "      <td>сыграть свадьбу</td>\n",
       "      <td>4</td>\n",
       "      <td>rich</td>\n",
       "      <td>нет детей</td>\n",
       "    </tr>\n",
       "    <tr>\n",
       "      <td>5</td>\n",
       "      <td>0</td>\n",
       "      <td>926</td>\n",
       "      <td>27</td>\n",
       "      <td>высшее</td>\n",
       "      <td>0</td>\n",
       "      <td>гражданский брак</td>\n",
       "      <td>1</td>\n",
       "      <td>M</td>\n",
       "      <td>компаньон</td>\n",
       "      <td>0</td>\n",
       "      <td>255763</td>\n",
       "      <td>покупка жилья</td>\n",
       "      <td>1</td>\n",
       "      <td>wealthy</td>\n",
       "      <td>нет детей</td>\n",
       "    </tr>\n",
       "    <tr>\n",
       "      <td>6</td>\n",
       "      <td>0</td>\n",
       "      <td>2879</td>\n",
       "      <td>43</td>\n",
       "      <td>высшее</td>\n",
       "      <td>0</td>\n",
       "      <td>женат / замужем</td>\n",
       "      <td>0</td>\n",
       "      <td>F</td>\n",
       "      <td>компаньон</td>\n",
       "      <td>0</td>\n",
       "      <td>240525</td>\n",
       "      <td>операции с жильем</td>\n",
       "      <td>1</td>\n",
       "      <td>wealthy</td>\n",
       "      <td>нет детей</td>\n",
       "    </tr>\n",
       "    <tr>\n",
       "      <td>7</td>\n",
       "      <td>0</td>\n",
       "      <td>152</td>\n",
       "      <td>50</td>\n",
       "      <td>СРЕДНЕЕ</td>\n",
       "      <td>1</td>\n",
       "      <td>женат / замужем</td>\n",
       "      <td>0</td>\n",
       "      <td>M</td>\n",
       "      <td>сотрудник</td>\n",
       "      <td>0</td>\n",
       "      <td>135823</td>\n",
       "      <td>образование</td>\n",
       "      <td>3</td>\n",
       "      <td>rich</td>\n",
       "      <td>нет детей</td>\n",
       "    </tr>\n",
       "    <tr>\n",
       "      <td>8</td>\n",
       "      <td>2</td>\n",
       "      <td>6929</td>\n",
       "      <td>35</td>\n",
       "      <td>ВЫСШЕЕ</td>\n",
       "      <td>0</td>\n",
       "      <td>гражданский брак</td>\n",
       "      <td>1</td>\n",
       "      <td>F</td>\n",
       "      <td>сотрудник</td>\n",
       "      <td>0</td>\n",
       "      <td>95856</td>\n",
       "      <td>на проведение свадьбы</td>\n",
       "      <td>4</td>\n",
       "      <td>normal</td>\n",
       "      <td>1-2 ребенка</td>\n",
       "    </tr>\n",
       "    <tr>\n",
       "      <td>9</td>\n",
       "      <td>0</td>\n",
       "      <td>2188</td>\n",
       "      <td>41</td>\n",
       "      <td>среднее</td>\n",
       "      <td>1</td>\n",
       "      <td>женат / замужем</td>\n",
       "      <td>0</td>\n",
       "      <td>M</td>\n",
       "      <td>сотрудник</td>\n",
       "      <td>0</td>\n",
       "      <td>144425</td>\n",
       "      <td>покупка жилья для семьи</td>\n",
       "      <td>1</td>\n",
       "      <td>rich</td>\n",
       "      <td>нет детей</td>\n",
       "    </tr>\n",
       "  </tbody>\n",
       "</table>\n",
       "</div>"
      ],
      "text/plain": [
       "   children  days_employed  dob_years education  education_id  \\\n",
       "0         1           8437         42    высшее             0   \n",
       "1         1           4024         36   среднее             1   \n",
       "2         0           5623         33   Среднее             1   \n",
       "3         3           4124         32   среднее             1   \n",
       "4         0         340266         53   среднее             1   \n",
       "5         0            926         27    высшее             0   \n",
       "6         0           2879         43    высшее             0   \n",
       "7         0            152         50   СРЕДНЕЕ             1   \n",
       "8         2           6929         35    ВЫСШЕЕ             0   \n",
       "9         0           2188         41   среднее             1   \n",
       "\n",
       "      family_status  family_status_id gender income_type  debt  total_income  \\\n",
       "0   женат / замужем                 0      F   сотрудник     0        253875   \n",
       "1   женат / замужем                 0      F   сотрудник     0        112080   \n",
       "2   женат / замужем                 0      M   сотрудник     0        145885   \n",
       "3   женат / замужем                 0      M   сотрудник     0        267628   \n",
       "4  гражданский брак                 1      F   пенсионер     0        158616   \n",
       "5  гражданский брак                 1      M   компаньон     0        255763   \n",
       "6   женат / замужем                 0      F   компаньон     0        240525   \n",
       "7   женат / замужем                 0      M   сотрудник     0        135823   \n",
       "8  гражданский брак                 1      F   сотрудник     0         95856   \n",
       "9   женат / замужем                 0      M   сотрудник     0        144425   \n",
       "\n",
       "                      purpose  purpose_cat salary_cat       children_cat  \n",
       "0               покупка жилья            1    wealthy        1-2 ребенка  \n",
       "1     приобретение автомобиля            2       rich        1-2 ребенка  \n",
       "2               покупка жилья            1       rich          нет детей  \n",
       "3  дополнительное образование            3    wealthy  многодетная семья  \n",
       "4             сыграть свадьбу            4       rich          нет детей  \n",
       "5               покупка жилья            1    wealthy          нет детей  \n",
       "6           операции с жильем            1    wealthy          нет детей  \n",
       "7                 образование            3       rich          нет детей  \n",
       "8       на проведение свадьбы            4     normal        1-2 ребенка  \n",
       "9     покупка жилья для семьи            1       rich          нет детей  "
      ]
     },
     "execution_count": 16,
     "metadata": {},
     "output_type": "execute_result"
    }
   ],
   "source": [
    "#Create a function salary_cat() and categorize data by income\n",
    "def salary_cat(row):\n",
    "    if row[\"total_income\"]<=50000:\n",
    "        return(\"poor\")\n",
    "    if 50000<row[\"total_income\"]<=100000:\n",
    "        return(\"normal\")\n",
    "    if 10000<row[\"total_income\"]<=200000:\n",
    "        return(\"rich\")\n",
    "    if row[\"total_income\"]>200000:\n",
    "        return(\"wealthy\")\n",
    "\n",
    "#Create a children_cat() function and categorize data by having children\n",
    "def children_cat(row):\n",
    "    if row[\"children\"] == 0:\n",
    "        return(\"нет детей\")\n",
    "    elif 1 <= row['children'] <= 2:\n",
    "        return(\"1-2 ребенка\")\n",
    "    else:\n",
    "        return(\"многодетная семья\")\n",
    "    \n",
    "\n",
    "    \n",
    "\n",
    "    \n",
    "\n",
    "# create a column and apply the function\n",
    "df[\"salary_cat\"] = df.apply(salary_cat, axis=1)\n",
    "df[\"children_cat\"] = df.apply(children_cat, axis=1)\n",
    "\n",
    "\n",
    "df.head(10)\n",
    " \n",
    "  \n"
   ]
  },
  {
   "cell_type": "code",
   "execution_count": 17,
   "metadata": {},
   "outputs": [
    {
     "data": {
      "text/html": [
       "<style  type=\"text/css\" >\n",
       "</style><table id=\"T_64493186_3cc0_11ec_9de8_02420a3940d9\" ><thead>    <tr>        <th class=\"blank level0\" ></th>        <th class=\"col_heading level0 col0\" >Кол-во пользователей</th>        <th class=\"col_heading level0 col1\" >Кол-во должников</th>        <th class=\"col_heading level0 col2\" >% должников</th>        <th class=\"col_heading level0 col3\" >% НЕдолжников</th>    </tr>    <tr>        <th class=\"index_name level0\" >children</th>        <th class=\"blank\" ></th>        <th class=\"blank\" ></th>        <th class=\"blank\" ></th>        <th class=\"blank\" ></th>    </tr></thead><tbody>\n",
       "                <tr>\n",
       "                        <th id=\"T_64493186_3cc0_11ec_9de8_02420a3940d9level0_row0\" class=\"row_heading level0 row0\" >-1</th>\n",
       "                        <td id=\"T_64493186_3cc0_11ec_9de8_02420a3940d9row0_col0\" class=\"data row0 col0\" >47</td>\n",
       "                        <td id=\"T_64493186_3cc0_11ec_9de8_02420a3940d9row0_col1\" class=\"data row0 col1\" >1</td>\n",
       "                        <td id=\"T_64493186_3cc0_11ec_9de8_02420a3940d9row0_col2\" class=\"data row0 col2\" >2.13%</td>\n",
       "                        <td id=\"T_64493186_3cc0_11ec_9de8_02420a3940d9row0_col3\" class=\"data row0 col3\" >97.87%</td>\n",
       "            </tr>\n",
       "            <tr>\n",
       "                        <th id=\"T_64493186_3cc0_11ec_9de8_02420a3940d9level0_row1\" class=\"row_heading level0 row1\" >0</th>\n",
       "                        <td id=\"T_64493186_3cc0_11ec_9de8_02420a3940d9row1_col0\" class=\"data row1 col0\" >14107</td>\n",
       "                        <td id=\"T_64493186_3cc0_11ec_9de8_02420a3940d9row1_col1\" class=\"data row1 col1\" >1063</td>\n",
       "                        <td id=\"T_64493186_3cc0_11ec_9de8_02420a3940d9row1_col2\" class=\"data row1 col2\" >7.54%</td>\n",
       "                        <td id=\"T_64493186_3cc0_11ec_9de8_02420a3940d9row1_col3\" class=\"data row1 col3\" >92.46%</td>\n",
       "            </tr>\n",
       "            <tr>\n",
       "                        <th id=\"T_64493186_3cc0_11ec_9de8_02420a3940d9level0_row2\" class=\"row_heading level0 row2\" >1</th>\n",
       "                        <td id=\"T_64493186_3cc0_11ec_9de8_02420a3940d9row2_col0\" class=\"data row2 col0\" >4809</td>\n",
       "                        <td id=\"T_64493186_3cc0_11ec_9de8_02420a3940d9row2_col1\" class=\"data row2 col1\" >444</td>\n",
       "                        <td id=\"T_64493186_3cc0_11ec_9de8_02420a3940d9row2_col2\" class=\"data row2 col2\" >9.23%</td>\n",
       "                        <td id=\"T_64493186_3cc0_11ec_9de8_02420a3940d9row2_col3\" class=\"data row2 col3\" >90.77%</td>\n",
       "            </tr>\n",
       "            <tr>\n",
       "                        <th id=\"T_64493186_3cc0_11ec_9de8_02420a3940d9level0_row3\" class=\"row_heading level0 row3\" >2</th>\n",
       "                        <td id=\"T_64493186_3cc0_11ec_9de8_02420a3940d9row3_col0\" class=\"data row3 col0\" >2052</td>\n",
       "                        <td id=\"T_64493186_3cc0_11ec_9de8_02420a3940d9row3_col1\" class=\"data row3 col1\" >194</td>\n",
       "                        <td id=\"T_64493186_3cc0_11ec_9de8_02420a3940d9row3_col2\" class=\"data row3 col2\" >9.45%</td>\n",
       "                        <td id=\"T_64493186_3cc0_11ec_9de8_02420a3940d9row3_col3\" class=\"data row3 col3\" >90.55%</td>\n",
       "            </tr>\n",
       "            <tr>\n",
       "                        <th id=\"T_64493186_3cc0_11ec_9de8_02420a3940d9level0_row4\" class=\"row_heading level0 row4\" >3</th>\n",
       "                        <td id=\"T_64493186_3cc0_11ec_9de8_02420a3940d9row4_col0\" class=\"data row4 col0\" >330</td>\n",
       "                        <td id=\"T_64493186_3cc0_11ec_9de8_02420a3940d9row4_col1\" class=\"data row4 col1\" >27</td>\n",
       "                        <td id=\"T_64493186_3cc0_11ec_9de8_02420a3940d9row4_col2\" class=\"data row4 col2\" >8.18%</td>\n",
       "                        <td id=\"T_64493186_3cc0_11ec_9de8_02420a3940d9row4_col3\" class=\"data row4 col3\" >91.82%</td>\n",
       "            </tr>\n",
       "            <tr>\n",
       "                        <th id=\"T_64493186_3cc0_11ec_9de8_02420a3940d9level0_row5\" class=\"row_heading level0 row5\" >4</th>\n",
       "                        <td id=\"T_64493186_3cc0_11ec_9de8_02420a3940d9row5_col0\" class=\"data row5 col0\" >41</td>\n",
       "                        <td id=\"T_64493186_3cc0_11ec_9de8_02420a3940d9row5_col1\" class=\"data row5 col1\" >4</td>\n",
       "                        <td id=\"T_64493186_3cc0_11ec_9de8_02420a3940d9row5_col2\" class=\"data row5 col2\" >9.76%</td>\n",
       "                        <td id=\"T_64493186_3cc0_11ec_9de8_02420a3940d9row5_col3\" class=\"data row5 col3\" >90.24%</td>\n",
       "            </tr>\n",
       "            <tr>\n",
       "                        <th id=\"T_64493186_3cc0_11ec_9de8_02420a3940d9level0_row6\" class=\"row_heading level0 row6\" >5</th>\n",
       "                        <td id=\"T_64493186_3cc0_11ec_9de8_02420a3940d9row6_col0\" class=\"data row6 col0\" >9</td>\n",
       "                        <td id=\"T_64493186_3cc0_11ec_9de8_02420a3940d9row6_col1\" class=\"data row6 col1\" >0</td>\n",
       "                        <td id=\"T_64493186_3cc0_11ec_9de8_02420a3940d9row6_col2\" class=\"data row6 col2\" >0.00%</td>\n",
       "                        <td id=\"T_64493186_3cc0_11ec_9de8_02420a3940d9row6_col3\" class=\"data row6 col3\" >100.00%</td>\n",
       "            </tr>\n",
       "            <tr>\n",
       "                        <th id=\"T_64493186_3cc0_11ec_9de8_02420a3940d9level0_row7\" class=\"row_heading level0 row7\" >20</th>\n",
       "                        <td id=\"T_64493186_3cc0_11ec_9de8_02420a3940d9row7_col0\" class=\"data row7 col0\" >76</td>\n",
       "                        <td id=\"T_64493186_3cc0_11ec_9de8_02420a3940d9row7_col1\" class=\"data row7 col1\" >8</td>\n",
       "                        <td id=\"T_64493186_3cc0_11ec_9de8_02420a3940d9row7_col2\" class=\"data row7 col2\" >10.53%</td>\n",
       "                        <td id=\"T_64493186_3cc0_11ec_9de8_02420a3940d9row7_col3\" class=\"data row7 col3\" >89.47%</td>\n",
       "            </tr>\n",
       "    </tbody></table>"
      ],
      "text/plain": [
       "<pandas.io.formats.style.Styler at 0x7f29f676b550>"
      ]
     },
     "execution_count": 17,
     "metadata": {},
     "output_type": "execute_result"
    }
   ],
   "source": [
    "df_example = df.pivot_table(index = 'children', values = 'debt', \n",
    "                            aggfunc = ['count', 'sum', 'mean', lambda x: 1 - x.mean()])\n",
    "df_example.columns = ['Кол-во пользователей', 'Кол-во должников', '% должников', '% НЕдолжников']\n",
    "df_example.style.format({'% должников': '{:.2%}', '% НЕдолжников': '{:.2%}'})"
   ]
  },
  {
   "cell_type": "markdown",
   "metadata": {},
   "source": [
    "**We created a column with our decisions on issuing a loan**"
   ]
  },
  {
   "cell_type": "markdown",
   "metadata": {},
   "source": [
    "## Step 3 3. Data analysis"
   ]
  },
  {
   "cell_type": "markdown",
   "metadata": {},
   "source": [
    "- Is there a relationship between having children and repaying a loan on time?"
   ]
  },
  {
   "cell_type": "code",
   "execution_count": 16,
   "metadata": {},
   "outputs": [
    {
     "data": {
      "text/html": [
       "<div>\n",
       "<style scoped>\n",
       "    .dataframe tbody tr th:only-of-type {\n",
       "        vertical-align: middle;\n",
       "    }\n",
       "\n",
       "    .dataframe tbody tr th {\n",
       "        vertical-align: top;\n",
       "    }\n",
       "\n",
       "    .dataframe thead th {\n",
       "        text-align: right;\n",
       "    }\n",
       "</style>\n",
       "<table border=\"1\" class=\"dataframe\">\n",
       "  <thead>\n",
       "    <tr style=\"text-align: right;\">\n",
       "      <th></th>\n",
       "      <th>debt</th>\n",
       "    </tr>\n",
       "    <tr>\n",
       "      <th>children_cat</th>\n",
       "      <th></th>\n",
       "    </tr>\n",
       "  </thead>\n",
       "  <tbody>\n",
       "    <tr>\n",
       "      <td>нет детей</td>\n",
       "      <td>0.075353</td>\n",
       "    </tr>\n",
       "    <tr>\n",
       "      <td>многодетная семья</td>\n",
       "      <td>0.079523</td>\n",
       "    </tr>\n",
       "    <tr>\n",
       "      <td>1-2 ребенка</td>\n",
       "      <td>0.092989</td>\n",
       "    </tr>\n",
       "  </tbody>\n",
       "</table>\n",
       "</div>"
      ],
      "text/plain": [
       "                       debt\n",
       "children_cat               \n",
       "нет детей          0.075353\n",
       "многодетная семья  0.079523\n",
       "1-2 ребенка        0.092989"
      ]
     },
     "metadata": {},
     "output_type": "display_data"
    }
   ],
   "source": [
    "# group the table by having children and debt\n",
    "children = df.groupby(\"children_cat\")[\"debt\"].mean().to_frame().sort_values(by=\"debt\")\n",
    "display(children)"
   ]
  },
  {
   "cell_type": "markdown",
   "metadata": {},
   "source": [
    "**Most of all debtors are among people who have 1-2 children.**"
   ]
  },
  {
   "cell_type": "markdown",
   "metadata": {},
   "source": [
    "- Is there a relationship between marital status and loan repayment on time?"
   ]
  },
  {
   "cell_type": "code",
   "execution_count": 17,
   "metadata": {},
   "outputs": [
    {
     "data": {
      "text/plain": [
       "array(['женат / замужем', 'гражданский брак', 'вдовец / вдова',\n",
       "       'в разводе', 'Не женат / не замужем'], dtype=object)"
      ]
     },
     "execution_count": 17,
     "metadata": {},
     "output_type": "execute_result"
    }
   ],
   "source": [
    "# see what marital status options are available\n",
    "df[\"family_status\"].unique()\n"
   ]
  },
  {
   "cell_type": "code",
   "execution_count": 19,
   "metadata": {},
   "outputs": [
    {
     "data": {
      "text/html": [
       "<style  type=\"text/css\" >\n",
       "</style><table id=\"T_3942f804_3cc1_11ec_9de8_02420a3940d9\" ><thead>    <tr>        <th class=\"blank level0\" ></th>        <th class=\"col_heading level0 col0\" >Кол-во пользователей</th>        <th class=\"col_heading level0 col1\" >Кол-во должников</th>        <th class=\"col_heading level0 col2\" >% должников</th>        <th class=\"col_heading level0 col3\" >% НЕдолжников</th>    </tr>    <tr>        <th class=\"index_name level0\" >family_status</th>        <th class=\"blank\" ></th>        <th class=\"blank\" ></th>        <th class=\"blank\" ></th>        <th class=\"blank\" ></th>    </tr></thead><tbody>\n",
       "                <tr>\n",
       "                        <th id=\"T_3942f804_3cc1_11ec_9de8_02420a3940d9level0_row0\" class=\"row_heading level0 row0\" >Не женат / не замужем</th>\n",
       "                        <td id=\"T_3942f804_3cc1_11ec_9de8_02420a3940d9row0_col0\" class=\"data row0 col0\" >2810</td>\n",
       "                        <td id=\"T_3942f804_3cc1_11ec_9de8_02420a3940d9row0_col1\" class=\"data row0 col1\" >274</td>\n",
       "                        <td id=\"T_3942f804_3cc1_11ec_9de8_02420a3940d9row0_col2\" class=\"data row0 col2\" >9.75%</td>\n",
       "                        <td id=\"T_3942f804_3cc1_11ec_9de8_02420a3940d9row0_col3\" class=\"data row0 col3\" >90.25%</td>\n",
       "            </tr>\n",
       "            <tr>\n",
       "                        <th id=\"T_3942f804_3cc1_11ec_9de8_02420a3940d9level0_row1\" class=\"row_heading level0 row1\" >в разводе</th>\n",
       "                        <td id=\"T_3942f804_3cc1_11ec_9de8_02420a3940d9row1_col0\" class=\"data row1 col0\" >1195</td>\n",
       "                        <td id=\"T_3942f804_3cc1_11ec_9de8_02420a3940d9row1_col1\" class=\"data row1 col1\" >85</td>\n",
       "                        <td id=\"T_3942f804_3cc1_11ec_9de8_02420a3940d9row1_col2\" class=\"data row1 col2\" >7.11%</td>\n",
       "                        <td id=\"T_3942f804_3cc1_11ec_9de8_02420a3940d9row1_col3\" class=\"data row1 col3\" >92.89%</td>\n",
       "            </tr>\n",
       "            <tr>\n",
       "                        <th id=\"T_3942f804_3cc1_11ec_9de8_02420a3940d9level0_row2\" class=\"row_heading level0 row2\" >вдовец / вдова</th>\n",
       "                        <td id=\"T_3942f804_3cc1_11ec_9de8_02420a3940d9row2_col0\" class=\"data row2 col0\" >959</td>\n",
       "                        <td id=\"T_3942f804_3cc1_11ec_9de8_02420a3940d9row2_col1\" class=\"data row2 col1\" >63</td>\n",
       "                        <td id=\"T_3942f804_3cc1_11ec_9de8_02420a3940d9row2_col2\" class=\"data row2 col2\" >6.57%</td>\n",
       "                        <td id=\"T_3942f804_3cc1_11ec_9de8_02420a3940d9row2_col3\" class=\"data row2 col3\" >93.43%</td>\n",
       "            </tr>\n",
       "            <tr>\n",
       "                        <th id=\"T_3942f804_3cc1_11ec_9de8_02420a3940d9level0_row3\" class=\"row_heading level0 row3\" >гражданский брак</th>\n",
       "                        <td id=\"T_3942f804_3cc1_11ec_9de8_02420a3940d9row3_col0\" class=\"data row3 col0\" >4163</td>\n",
       "                        <td id=\"T_3942f804_3cc1_11ec_9de8_02420a3940d9row3_col1\" class=\"data row3 col1\" >388</td>\n",
       "                        <td id=\"T_3942f804_3cc1_11ec_9de8_02420a3940d9row3_col2\" class=\"data row3 col2\" >9.32%</td>\n",
       "                        <td id=\"T_3942f804_3cc1_11ec_9de8_02420a3940d9row3_col3\" class=\"data row3 col3\" >90.68%</td>\n",
       "            </tr>\n",
       "            <tr>\n",
       "                        <th id=\"T_3942f804_3cc1_11ec_9de8_02420a3940d9level0_row4\" class=\"row_heading level0 row4\" >женат / замужем</th>\n",
       "                        <td id=\"T_3942f804_3cc1_11ec_9de8_02420a3940d9row4_col0\" class=\"data row4 col0\" >12344</td>\n",
       "                        <td id=\"T_3942f804_3cc1_11ec_9de8_02420a3940d9row4_col1\" class=\"data row4 col1\" >931</td>\n",
       "                        <td id=\"T_3942f804_3cc1_11ec_9de8_02420a3940d9row4_col2\" class=\"data row4 col2\" >7.54%</td>\n",
       "                        <td id=\"T_3942f804_3cc1_11ec_9de8_02420a3940d9row4_col3\" class=\"data row4 col3\" >92.46%</td>\n",
       "            </tr>\n",
       "    </tbody></table>"
      ],
      "text/plain": [
       "<pandas.io.formats.style.Styler at 0x7f29f5f62590>"
      ]
     },
     "execution_count": 19,
     "metadata": {},
     "output_type": "execute_result"
    }
   ],
   "source": [
    "# do the same as in the first hypothesis\n",
    "#family_status = df.groupby(\"family_status\")[\"debt\"].mean().to_frame().sort_values(by=\"debt\")\n",
    "#display(family_status)\n",
    "\n",
    "df_example1 = df.pivot_table(index=\"family_status\", values=\"debt\", aggfunc=[\"count\", \"sum\", \"mean\", lambda x: 1-x.mean()])\n",
    "df_example1.columns = ['Кол-во пользователей', 'Кол-во должников', '% должников', '% НЕдолжников']\n",
    "df_example1.style.format({'% должников': '{:.2%}', '% НЕдолжников': '{:.2%}'})"
   ]
  },
  {
   "cell_type": "markdown",
   "metadata": {},
   "source": [
    "**Here we see that people who are not married have the most debts.**"
   ]
  },
  {
   "cell_type": "markdown",
   "metadata": {},
   "source": [
    "- Is there a relationship between income and loan repayment on time?"
   ]
  },
  {
   "cell_type": "code",
   "execution_count": 19,
   "metadata": {},
   "outputs": [
    {
     "data": {
      "text/html": [
       "<div>\n",
       "<style scoped>\n",
       "    .dataframe tbody tr th:only-of-type {\n",
       "        vertical-align: middle;\n",
       "    }\n",
       "\n",
       "    .dataframe tbody tr th {\n",
       "        vertical-align: top;\n",
       "    }\n",
       "\n",
       "    .dataframe thead th {\n",
       "        text-align: right;\n",
       "    }\n",
       "</style>\n",
       "<table border=\"1\" class=\"dataframe\">\n",
       "  <thead>\n",
       "    <tr style=\"text-align: right;\">\n",
       "      <th></th>\n",
       "      <th>debt</th>\n",
       "    </tr>\n",
       "    <tr>\n",
       "      <th>salary_cat</th>\n",
       "      <th></th>\n",
       "    </tr>\n",
       "  </thead>\n",
       "  <tbody>\n",
       "    <tr>\n",
       "      <td>poor</td>\n",
       "      <td>0.061828</td>\n",
       "    </tr>\n",
       "    <tr>\n",
       "      <td>wealthy</td>\n",
       "      <td>0.070667</td>\n",
       "    </tr>\n",
       "    <tr>\n",
       "      <td>normal</td>\n",
       "      <td>0.080909</td>\n",
       "    </tr>\n",
       "    <tr>\n",
       "      <td>rich</td>\n",
       "      <td>0.086166</td>\n",
       "    </tr>\n",
       "  </tbody>\n",
       "</table>\n",
       "</div>"
      ],
      "text/plain": [
       "                debt\n",
       "salary_cat          \n",
       "poor        0.061828\n",
       "wealthy     0.070667\n",
       "normal      0.080909\n",
       "rich        0.086166"
      ]
     },
     "metadata": {},
     "output_type": "display_data"
    }
   ],
   "source": [
    "# group it with debtors using the groupby() method\n",
    "salary = df.groupby(\"salary_cat\")[\"debt\"].mean().to_frame().sort_values(by=\"debt\")\n",
    "display(salary)"
   ]
  },
  {
   "cell_type": "markdown",
   "metadata": {},
   "source": [
    "**Oddly enough, the least debtors are those who have an income of less than 50,000. And most of all, those who have an income of 100,000 to 200,000.\n",
    "Apparently, because they are given loans more often.**"
   ]
  },
  {
   "cell_type": "markdown",
   "metadata": {},
   "source": [
    "- How do different purposes of a loan affect its repayment on time?\n"
   ]
  },
  {
   "cell_type": "code",
   "execution_count": 20,
   "metadata": {},
   "outputs": [
    {
     "data": {
      "text/html": [
       "<div>\n",
       "<style scoped>\n",
       "    .dataframe tbody tr th:only-of-type {\n",
       "        vertical-align: middle;\n",
       "    }\n",
       "\n",
       "    .dataframe tbody tr th {\n",
       "        vertical-align: top;\n",
       "    }\n",
       "\n",
       "    .dataframe thead th {\n",
       "        text-align: right;\n",
       "    }\n",
       "</style>\n",
       "<table border=\"1\" class=\"dataframe\">\n",
       "  <thead>\n",
       "    <tr style=\"text-align: right;\">\n",
       "      <th></th>\n",
       "      <th>debt</th>\n",
       "    </tr>\n",
       "    <tr>\n",
       "      <th>purpose_cat</th>\n",
       "      <th></th>\n",
       "    </tr>\n",
       "  </thead>\n",
       "  <tbody>\n",
       "    <tr>\n",
       "      <td>1</td>\n",
       "      <td>0.072314</td>\n",
       "    </tr>\n",
       "    <tr>\n",
       "      <td>4</td>\n",
       "      <td>0.079657</td>\n",
       "    </tr>\n",
       "    <tr>\n",
       "      <td>3</td>\n",
       "      <td>0.092177</td>\n",
       "    </tr>\n",
       "    <tr>\n",
       "      <td>2</td>\n",
       "      <td>0.093547</td>\n",
       "    </tr>\n",
       "  </tbody>\n",
       "</table>\n",
       "</div>"
      ],
      "text/plain": [
       "                 debt\n",
       "purpose_cat          \n",
       "1            0.072314\n",
       "4            0.079657\n",
       "3            0.092177\n",
       "2            0.093547"
      ]
     },
     "metadata": {},
     "output_type": "display_data"
    }
   ],
   "source": [
    "# Group debtors by goals and loans and display\n",
    "purpose = df.groupby(\"purpose_cat\")[\"debt\"].mean().to_frame().sort_values(by=\"debt\")\n",
    "\n",
    "display(purpose)\n"
   ]
  },
  {
   "cell_type": "markdown",
   "metadata": {},
   "source": [
    "**We see that most of the debtors are those who take out a loan for education. And the most responsible are those who take out a loan for real estate transactions**"
   ]
  },
  {
   "cell_type": "markdown",
   "metadata": {},
   "source": [
    "## Step 4. Conclusion"
   ]
  },
  {
   "cell_type": "markdown",
   "metadata": {},
   "source": [
    "At the beginning of the project, we filled in the gaps with the average values ​​that were in income and seniority.\n",
    " It seems to me that all the same, the omissions there were not due to errors, but because not everyone wants to say their income. Therefore, for the accuracy of research, it is better to seek help in such cases.\n",
    " Next, we lemmatized the words, then made a volume of 5 popular loan goals out of them, sematized and numbered them. Then we added this data to the table, thereby categorizing the data by purpose.\n",
    "\n",
    "We tested four hypotheses and found:\n",
    "1. Is there a relationship between having children and repaying a loan on time?\n",
    "    We see that the most debtors are people who have 1-2 children.\n",
    "2. Is there a relationship between marital status and loan repayment on time?\n",
    "    We see that unmarried couples have the most debts.\n",
    "3. Is there a relationship between income level and loan repayment on time?\n",
    "    We see that people with an income of less than 500,000 have the least debt. And the middle class has the most.\n",
    "4. How do different purposes of a loan affect its repayment on time?\n",
    "    People who take out loans for education have the most debts, and those who take loans for real estate have the least."
   ]
  }
 ],
 "metadata": {
  "ExecuteTimeLog": [
   {
    "duration": 860,
    "start_time": "2021-11-01T19:35:29.939Z"
   },
   {
    "duration": 16,
    "start_time": "2021-11-01T19:39:35.370Z"
   },
   {
    "duration": 33,
    "start_time": "2021-11-01T19:40:42.998Z"
   },
   {
    "duration": 406,
    "start_time": "2021-11-01T19:40:56.790Z"
   },
   {
    "duration": 78,
    "start_time": "2021-11-01T19:41:02.934Z"
   },
   {
    "duration": 15,
    "start_time": "2021-11-01T19:41:06.529Z"
   },
   {
    "duration": 31,
    "start_time": "2021-11-01T19:41:52.303Z"
   },
   {
    "duration": 21,
    "start_time": "2021-11-01T19:44:03.697Z"
   },
   {
    "duration": 14,
    "start_time": "2021-11-01T19:44:12.337Z"
   },
   {
    "duration": 11,
    "start_time": "2021-11-01T19:44:28.508Z"
   },
   {
    "duration": 16,
    "start_time": "2021-11-01T19:55:55.185Z"
   },
   {
    "duration": 11,
    "start_time": "2021-11-01T19:56:12.345Z"
   },
   {
    "duration": 15,
    "start_time": "2021-11-01T19:56:15.360Z"
   },
   {
    "duration": 12,
    "start_time": "2021-11-01T19:56:15.926Z"
   },
   {
    "duration": 80,
    "start_time": "2021-11-01T19:56:21.189Z"
   },
   {
    "duration": 15,
    "start_time": "2021-11-01T19:56:23.477Z"
   },
   {
    "duration": 12,
    "start_time": "2021-11-01T19:56:26.550Z"
   },
   {
    "duration": 7,
    "start_time": "2021-11-01T19:57:14.685Z"
   },
   {
    "duration": 8,
    "start_time": "2021-11-01T19:59:04.461Z"
   },
   {
    "duration": 13,
    "start_time": "2021-11-01T20:00:06.076Z"
   },
   {
    "duration": 8966,
    "start_time": "2021-11-01T20:00:38.195Z"
   },
   {
    "duration": -1344,
    "start_time": "2021-11-01T20:00:48.511Z"
   },
   {
    "duration": 81,
    "start_time": "2021-11-01T20:01:04.857Z"
   },
   {
    "duration": 15,
    "start_time": "2021-11-01T20:01:07.425Z"
   },
   {
    "duration": 12,
    "start_time": "2021-11-01T20:01:07.945Z"
   },
   {
    "duration": 8806,
    "start_time": "2021-11-01T20:01:08.408Z"
   },
   {
    "duration": 11,
    "start_time": "2021-11-01T20:01:19.975Z"
   },
   {
    "duration": 18,
    "start_time": "2021-11-01T20:01:34.052Z"
   },
   {
    "duration": 121,
    "start_time": "2021-11-01T20:01:39.957Z"
   },
   {
    "duration": 23,
    "start_time": "2021-11-01T20:01:42.394Z"
   },
   {
    "duration": 12,
    "start_time": "2021-11-01T20:01:43.412Z"
   },
   {
    "duration": 8,
    "start_time": "2021-11-01T20:01:44.603Z"
   },
   {
    "duration": 13,
    "start_time": "2021-11-01T20:01:46.282Z"
   },
   {
    "duration": 8,
    "start_time": "2021-11-01T20:02:34.288Z"
   },
   {
    "duration": 11,
    "start_time": "2021-11-01T20:02:34.901Z"
   },
   {
    "duration": 6795,
    "start_time": "2021-11-01T20:11:22.569Z"
   },
   {
    "duration": 6766,
    "start_time": "2021-11-01T20:11:38.263Z"
   },
   {
    "duration": 5,
    "start_time": "2021-11-01T20:11:51.041Z"
   },
   {
    "duration": 16,
    "start_time": "2021-11-01T20:12:03.611Z"
   },
   {
    "duration": 17,
    "start_time": "2021-11-01T20:12:34.238Z"
   },
   {
    "duration": 24,
    "start_time": "2021-11-01T20:16:27.045Z"
   },
   {
    "duration": 328,
    "start_time": "2021-11-01T20:18:56.944Z"
   },
   {
    "duration": 30,
    "start_time": "2021-11-01T20:19:15.906Z"
   },
   {
    "duration": 17,
    "start_time": "2021-11-01T20:19:25.088Z"
   },
   {
    "duration": 24,
    "start_time": "2021-11-01T20:19:45.568Z"
   },
   {
    "duration": 26,
    "start_time": "2021-11-01T20:21:09.228Z"
   },
   {
    "duration": 48,
    "start_time": "2021-11-01T20:21:14.849Z"
   },
   {
    "duration": 9,
    "start_time": "2021-11-01T20:28:55.819Z"
   },
   {
    "duration": 302,
    "start_time": "2021-11-01T20:30:39.069Z"
   },
   {
    "duration": 301,
    "start_time": "2021-11-01T20:31:31.001Z"
   },
   {
    "duration": 902,
    "start_time": "2021-11-01T20:31:55.924Z"
   },
   {
    "duration": 368,
    "start_time": "2021-11-01T20:33:09.355Z"
   },
   {
    "duration": 292,
    "start_time": "2021-11-01T20:33:15.361Z"
   },
   {
    "duration": 274,
    "start_time": "2021-11-01T20:34:03.317Z"
   },
   {
    "duration": 276,
    "start_time": "2021-11-01T20:35:57.269Z"
   },
   {
    "duration": 480,
    "start_time": "2021-11-01T20:37:45.809Z"
   },
   {
    "duration": 503,
    "start_time": "2021-11-01T20:39:31.799Z"
   },
   {
    "duration": 363,
    "start_time": "2021-11-01T20:41:48.613Z"
   },
   {
    "duration": 3892,
    "start_time": "2021-11-01T20:44:35.839Z"
   },
   {
    "duration": 5,
    "start_time": "2021-11-01T20:46:35.835Z"
   },
   {
    "duration": 98,
    "start_time": "2021-11-01T20:46:59.992Z"
   },
   {
    "duration": 88,
    "start_time": "2021-11-01T20:47:08.610Z"
   },
   {
    "duration": 102,
    "start_time": "2021-11-01T20:47:25.934Z"
   },
   {
    "duration": 92,
    "start_time": "2021-11-01T20:47:33.610Z"
   },
   {
    "duration": 102,
    "start_time": "2021-11-01T20:47:43.629Z"
   },
   {
    "duration": 95,
    "start_time": "2021-11-01T20:48:33.121Z"
   },
   {
    "duration": 90,
    "start_time": "2021-11-01T20:48:49.441Z"
   },
   {
    "duration": 103,
    "start_time": "2021-11-01T20:49:03.253Z"
   },
   {
    "duration": 280,
    "start_time": "2021-11-01T20:53:11.537Z"
   },
   {
    "duration": 4694,
    "start_time": "2021-11-01T20:53:16.396Z"
   },
   {
    "duration": 3469,
    "start_time": "2021-11-01T20:53:34.776Z"
   },
   {
    "duration": 3401,
    "start_time": "2021-11-01T20:54:11.170Z"
   },
   {
    "duration": 3771,
    "start_time": "2021-11-01T20:54:37.504Z"
   },
   {
    "duration": 3958,
    "start_time": "2021-11-01T20:56:07.325Z"
   },
   {
    "duration": 21,
    "start_time": "2021-11-01T21:14:55.807Z"
   },
   {
    "duration": 4374,
    "start_time": "2021-11-01T21:22:46.518Z"
   },
   {
    "duration": 6,
    "start_time": "2021-11-01T21:24:07.669Z"
   },
   {
    "duration": 17,
    "start_time": "2021-11-01T21:24:08.517Z"
   },
   {
    "duration": 4034,
    "start_time": "2021-11-01T21:24:23.577Z"
   },
   {
    "duration": -1364,
    "start_time": "2021-11-01T21:24:28.978Z"
   },
   {
    "duration": 3532,
    "start_time": "2021-11-01T21:24:38.111Z"
   },
   {
    "duration": 83,
    "start_time": "2021-11-01T21:26:09.395Z"
   },
   {
    "duration": 15,
    "start_time": "2021-11-01T21:26:11.641Z"
   },
   {
    "duration": 12,
    "start_time": "2021-11-01T21:26:12.183Z"
   },
   {
    "duration": 8,
    "start_time": "2021-11-01T21:26:12.497Z"
   },
   {
    "duration": 12,
    "start_time": "2021-11-01T21:26:13.491Z"
   },
   {
    "duration": 357,
    "start_time": "2021-11-01T21:26:15.179Z"
   },
   {
    "duration": 6,
    "start_time": "2021-11-01T21:26:31.166Z"
   },
   {
    "duration": 17,
    "start_time": "2021-11-01T21:26:32.146Z"
   },
   {
    "duration": 25,
    "start_time": "2021-11-01T21:26:38.842Z"
   },
   {
    "duration": 44,
    "start_time": "2021-11-01T21:26:39.266Z"
   },
   {
    "duration": 3451,
    "start_time": "2021-11-01T21:26:40.286Z"
   },
   {
    "duration": 5375,
    "start_time": "2021-11-01T21:26:43.740Z"
   },
   {
    "duration": -1363,
    "start_time": "2021-11-01T21:26:50.481Z"
   },
   {
    "duration": 17,
    "start_time": "2021-11-01T21:26:55.988Z"
   },
   {
    "duration": 6928,
    "start_time": "2021-11-01T21:30:40.885Z"
   },
   {
    "duration": 6725,
    "start_time": "2021-11-01T21:30:52.952Z"
   },
   {
    "duration": 12,
    "start_time": "2021-11-01T21:31:09.481Z"
   },
   {
    "duration": 23,
    "start_time": "2021-11-01T21:31:20.454Z"
   },
   {
    "duration": 20,
    "start_time": "2021-11-01T21:31:32.193Z"
   },
   {
    "duration": 23,
    "start_time": "2021-11-01T21:33:59.309Z"
   },
   {
    "duration": 16,
    "start_time": "2021-11-01T21:34:17.863Z"
   },
   {
    "duration": 19,
    "start_time": "2021-11-01T21:34:25.841Z"
   },
   {
    "duration": 81,
    "start_time": "2021-11-01T21:34:34.575Z"
   },
   {
    "duration": 14,
    "start_time": "2021-11-01T21:34:36.907Z"
   },
   {
    "duration": 12,
    "start_time": "2021-11-01T21:34:37.471Z"
   },
   {
    "duration": 10,
    "start_time": "2021-11-01T21:34:37.726Z"
   },
   {
    "duration": 11,
    "start_time": "2021-11-01T21:34:38.170Z"
   },
   {
    "duration": 6,
    "start_time": "2021-11-01T21:34:39.082Z"
   },
   {
    "duration": 16,
    "start_time": "2021-11-01T21:34:39.496Z"
   },
   {
    "duration": 23,
    "start_time": "2021-11-01T21:34:41.126Z"
   },
   {
    "duration": 41,
    "start_time": "2021-11-01T21:34:41.353Z"
   },
   {
    "duration": 3414,
    "start_time": "2021-11-01T21:34:42.097Z"
   },
   {
    "duration": 19,
    "start_time": "2021-11-01T21:34:45.513Z"
   },
   {
    "duration": 1061,
    "start_time": "2021-11-01T21:41:21.835Z"
   },
   {
    "duration": 1093,
    "start_time": "2021-11-01T21:41:34.563Z"
   },
   {
    "duration": 21,
    "start_time": "2021-11-01T21:48:25.000Z"
   },
   {
    "duration": 293,
    "start_time": "2021-11-01T21:48:42.825Z"
   },
   {
    "duration": 22,
    "start_time": "2021-11-01T21:48:53.861Z"
   },
   {
    "duration": 983,
    "start_time": "2021-11-01T21:48:57.109Z"
   },
   {
    "duration": 1003,
    "start_time": "2021-11-01T21:54:09.711Z"
   },
   {
    "duration": 101,
    "start_time": "2021-11-01T22:02:24.141Z"
   },
   {
    "duration": 114,
    "start_time": "2021-11-01T22:02:39.293Z"
   },
   {
    "duration": 9270,
    "start_time": "2021-11-01T22:04:02.587Z"
   },
   {
    "duration": 87,
    "start_time": "2021-11-01T22:04:31.735Z"
   },
   {
    "duration": 16,
    "start_time": "2021-11-01T22:04:33.115Z"
   },
   {
    "duration": 11,
    "start_time": "2021-11-01T22:04:33.375Z"
   },
   {
    "duration": 8,
    "start_time": "2021-11-01T22:04:33.585Z"
   },
   {
    "duration": 14,
    "start_time": "2021-11-01T22:04:33.759Z"
   },
   {
    "duration": 6,
    "start_time": "2021-11-01T22:04:34.293Z"
   },
   {
    "duration": 16,
    "start_time": "2021-11-01T22:04:34.418Z"
   },
   {
    "duration": 23,
    "start_time": "2021-11-01T22:04:34.986Z"
   },
   {
    "duration": 41,
    "start_time": "2021-11-01T22:04:35.197Z"
   },
   {
    "duration": 3503,
    "start_time": "2021-11-01T22:04:35.934Z"
   },
   {
    "duration": 21,
    "start_time": "2021-11-01T22:04:39.440Z"
   },
   {
    "duration": 8460,
    "start_time": "2021-11-01T22:04:39.464Z"
   },
   {
    "duration": 9339,
    "start_time": "2021-11-01T22:04:56.320Z"
   },
   {
    "duration": 9562,
    "start_time": "2021-11-01T22:06:03.732Z"
   },
   {
    "duration": 8889,
    "start_time": "2021-11-01T22:07:30.678Z"
   },
   {
    "duration": 7970,
    "start_time": "2021-11-01T22:08:39.978Z"
   },
   {
    "duration": 7994,
    "start_time": "2021-11-01T22:09:26.130Z"
   },
   {
    "duration": 1116,
    "start_time": "2021-11-01T22:09:56.142Z"
   },
   {
    "duration": 1309,
    "start_time": "2021-11-01T22:10:49.357Z"
   },
   {
    "duration": 398,
    "start_time": "2021-11-02T09:50:21.739Z"
   },
   {
    "duration": 686,
    "start_time": "2021-11-02T09:51:18.890Z"
   },
   {
    "duration": 13,
    "start_time": "2021-11-02T09:51:21.113Z"
   },
   {
    "duration": 10,
    "start_time": "2021-11-02T09:51:21.317Z"
   },
   {
    "duration": 6,
    "start_time": "2021-11-02T09:51:21.618Z"
   },
   {
    "duration": 9,
    "start_time": "2021-11-02T09:51:21.811Z"
   },
   {
    "duration": 4,
    "start_time": "2021-11-02T09:51:22.461Z"
   },
   {
    "duration": 12,
    "start_time": "2021-11-02T09:51:22.635Z"
   },
   {
    "duration": 16,
    "start_time": "2021-11-02T09:51:23.308Z"
   },
   {
    "duration": 32,
    "start_time": "2021-11-02T09:51:23.528Z"
   },
   {
    "duration": 366,
    "start_time": "2021-11-02T09:51:24.340Z"
   },
   {
    "duration": 14,
    "start_time": "2021-11-02T09:51:24.786Z"
   },
   {
    "duration": 752,
    "start_time": "2021-11-02T09:51:25.113Z"
   },
   {
    "duration": 6,
    "start_time": "2021-11-02T09:51:25.907Z"
   },
   {
    "duration": 6,
    "start_time": "2021-11-02T09:51:32.754Z"
   },
   {
    "duration": 7,
    "start_time": "2021-11-02T09:52:14.439Z"
   },
   {
    "duration": 376,
    "start_time": "2021-11-02T09:53:28.340Z"
   },
   {
    "duration": 362,
    "start_time": "2021-11-02T09:53:39.706Z"
   },
   {
    "duration": 12,
    "start_time": "2021-11-02T09:53:52.443Z"
   },
   {
    "duration": 356,
    "start_time": "2021-11-02T09:54:31.385Z"
   },
   {
    "duration": 5,
    "start_time": "2021-11-02T09:55:06.299Z"
   },
   {
    "duration": 5,
    "start_time": "2021-11-02T09:55:27.614Z"
   },
   {
    "duration": 352,
    "start_time": "2021-11-02T09:56:01.659Z"
   },
   {
    "duration": 6,
    "start_time": "2021-11-02T09:56:06.371Z"
   },
   {
    "duration": 6,
    "start_time": "2021-11-02T09:56:16.721Z"
   },
   {
    "duration": 9,
    "start_time": "2021-11-02T09:56:55.193Z"
   },
   {
    "duration": 6,
    "start_time": "2021-11-02T09:58:21.563Z"
   },
   {
    "duration": 5,
    "start_time": "2021-11-02T09:58:41.433Z"
   },
   {
    "duration": 6,
    "start_time": "2021-11-02T09:58:47.033Z"
   },
   {
    "duration": 15,
    "start_time": "2021-11-02T09:59:05.135Z"
   },
   {
    "duration": 5,
    "start_time": "2021-11-02T09:59:34.021Z"
   },
   {
    "duration": 6,
    "start_time": "2021-11-02T10:02:21.637Z"
   },
   {
    "duration": 5302,
    "start_time": "2021-11-02T10:03:06.608Z"
   },
   {
    "duration": 831,
    "start_time": "2021-11-02T10:04:02.136Z"
   },
   {
    "duration": 4870,
    "start_time": "2021-11-02T10:04:33.866Z"
   },
   {
    "duration": 4982,
    "start_time": "2021-11-02T10:05:12.988Z"
   },
   {
    "duration": 4904,
    "start_time": "2021-11-02T10:05:24.640Z"
   },
   {
    "duration": 834,
    "start_time": "2021-11-02T10:06:40.452Z"
   },
   {
    "duration": 612,
    "start_time": "2021-11-02T10:07:33.620Z"
   },
   {
    "duration": 4742,
    "start_time": "2021-11-02T10:09:46.643Z"
   },
   {
    "duration": 4899,
    "start_time": "2021-11-02T10:10:34.181Z"
   },
   {
    "duration": 424,
    "start_time": "2021-11-02T10:12:53.809Z"
   },
   {
    "duration": 686,
    "start_time": "2021-11-02T10:23:07.025Z"
   },
   {
    "duration": 12,
    "start_time": "2021-11-02T10:23:10.983Z"
   },
   {
    "duration": 9,
    "start_time": "2021-11-02T10:23:11.646Z"
   },
   {
    "duration": 6,
    "start_time": "2021-11-02T10:23:11.921Z"
   },
   {
    "duration": 10,
    "start_time": "2021-11-02T10:23:12.279Z"
   },
   {
    "duration": 6,
    "start_time": "2021-11-02T10:23:12.928Z"
   },
   {
    "duration": 13,
    "start_time": "2021-11-02T10:23:13.116Z"
   },
   {
    "duration": 23,
    "start_time": "2021-11-02T10:23:15.344Z"
   },
   {
    "duration": 48,
    "start_time": "2021-11-02T10:23:15.592Z"
   },
   {
    "duration": 687,
    "start_time": "2021-11-02T10:26:22.803Z"
   },
   {
    "duration": 18,
    "start_time": "2021-11-02T10:26:25.227Z"
   },
   {
    "duration": 14,
    "start_time": "2021-11-02T10:26:25.743Z"
   },
   {
    "duration": 7,
    "start_time": "2021-11-02T10:26:26.024Z"
   },
   {
    "duration": 11,
    "start_time": "2021-11-02T10:26:26.558Z"
   },
   {
    "duration": 6,
    "start_time": "2021-11-02T10:26:27.935Z"
   },
   {
    "duration": 12,
    "start_time": "2021-11-02T10:26:28.411Z"
   },
   {
    "duration": 17,
    "start_time": "2021-11-02T10:26:29.780Z"
   },
   {
    "duration": 33,
    "start_time": "2021-11-02T10:26:30.241Z"
   },
   {
    "duration": 691,
    "start_time": "2021-11-02T10:27:44.432Z"
   },
   {
    "duration": 12,
    "start_time": "2021-11-02T10:27:46.661Z"
   },
   {
    "duration": 10,
    "start_time": "2021-11-02T10:27:47.049Z"
   },
   {
    "duration": 7,
    "start_time": "2021-11-02T10:27:47.283Z"
   },
   {
    "duration": 10,
    "start_time": "2021-11-02T10:27:47.508Z"
   },
   {
    "duration": 6,
    "start_time": "2021-11-02T10:27:48.299Z"
   },
   {
    "duration": 11,
    "start_time": "2021-11-02T10:27:48.557Z"
   },
   {
    "duration": 18,
    "start_time": "2021-11-02T10:27:49.765Z"
   },
   {
    "duration": 33,
    "start_time": "2021-11-02T10:27:50.066Z"
   },
   {
    "duration": 4294,
    "start_time": "2021-11-02T10:27:51.298Z"
   },
   {
    "duration": 19,
    "start_time": "2021-11-02T10:28:00.599Z"
   },
   {
    "duration": 797,
    "start_time": "2021-11-02T10:28:02.493Z"
   },
   {
    "duration": 11,
    "start_time": "2021-11-02T10:28:06.506Z"
   },
   {
    "duration": 10,
    "start_time": "2021-11-02T10:28:14.336Z"
   },
   {
    "duration": 10,
    "start_time": "2021-11-02T10:28:55.954Z"
   },
   {
    "duration": 13,
    "start_time": "2021-11-02T10:29:10.756Z"
   },
   {
    "duration": 174,
    "start_time": "2021-11-02T10:29:52.613Z"
   },
   {
    "duration": 5385,
    "start_time": "2021-11-02T10:29:57.804Z"
   },
   {
    "duration": 340,
    "start_time": "2021-11-02T10:31:18.214Z"
   },
   {
    "duration": 8,
    "start_time": "2021-11-02T10:31:23.014Z"
   },
   {
    "duration": 358,
    "start_time": "2021-11-02T10:31:56.375Z"
   },
   {
    "duration": 6,
    "start_time": "2021-11-02T10:32:02.893Z"
   },
   {
    "duration": 8,
    "start_time": "2021-11-02T10:32:18.290Z"
   },
   {
    "duration": 9216,
    "start_time": "2021-11-02T10:44:45.529Z"
   },
   {
    "duration": 6,
    "start_time": "2021-11-02T10:44:59.647Z"
   },
   {
    "duration": 8,
    "start_time": "2021-11-02T10:47:35.531Z"
   },
   {
    "duration": 8,
    "start_time": "2021-11-02T10:48:45.689Z"
   },
   {
    "duration": 359,
    "start_time": "2021-11-02T10:48:57.264Z"
   },
   {
    "duration": 6,
    "start_time": "2021-11-02T10:49:05.002Z"
   },
   {
    "duration": 6,
    "start_time": "2021-11-02T10:54:55.953Z"
   },
   {
    "duration": 39,
    "start_time": "2021-11-02T10:55:04.241Z"
   },
   {
    "duration": 353,
    "start_time": "2021-11-02T10:55:41.685Z"
   },
   {
    "duration": 4,
    "start_time": "2021-11-02T10:55:56.808Z"
   },
   {
    "duration": 117,
    "start_time": "2021-11-02T10:56:57.866Z"
   },
   {
    "duration": 358,
    "start_time": "2021-11-02T10:57:13.276Z"
   },
   {
    "duration": 401,
    "start_time": "2021-11-02T10:57:27.146Z"
   },
   {
    "duration": 367,
    "start_time": "2021-11-02T10:57:41.823Z"
   },
   {
    "duration": 3,
    "start_time": "2021-11-02T10:57:52.039Z"
   },
   {
    "duration": 7,
    "start_time": "2021-11-02T10:57:58.427Z"
   },
   {
    "duration": 359,
    "start_time": "2021-11-02T10:58:14.162Z"
   },
   {
    "duration": 360,
    "start_time": "2021-11-02T10:58:46.020Z"
   },
   {
    "duration": 366,
    "start_time": "2021-11-02T10:59:01.029Z"
   },
   {
    "duration": 419,
    "start_time": "2021-11-02T10:59:20.131Z"
   },
   {
    "duration": 5957,
    "start_time": "2021-11-02T10:59:26.085Z"
   },
   {
    "duration": 4545,
    "start_time": "2021-11-02T11:09:54.246Z"
   },
   {
    "duration": 4,
    "start_time": "2021-11-02T11:10:21.715Z"
   },
   {
    "duration": 4510,
    "start_time": "2021-11-02T11:10:26.840Z"
   },
   {
    "duration": 4879,
    "start_time": "2021-11-02T11:11:01.264Z"
   },
   {
    "duration": 350,
    "start_time": "2021-11-02T11:11:39.496Z"
   },
   {
    "duration": 13,
    "start_time": "2021-11-02T11:12:56.333Z"
   },
   {
    "duration": 14,
    "start_time": "2021-11-02T11:13:04.438Z"
   },
   {
    "duration": 7,
    "start_time": "2021-11-02T11:13:21.146Z"
   },
   {
    "duration": 6,
    "start_time": "2021-11-02T11:13:32.116Z"
   },
   {
    "duration": 353,
    "start_time": "2021-11-02T11:14:22.104Z"
   },
   {
    "duration": 8,
    "start_time": "2021-11-02T11:14:37.252Z"
   },
   {
    "duration": 357,
    "start_time": "2021-11-02T11:15:08.574Z"
   },
   {
    "duration": 10,
    "start_time": "2021-11-02T11:15:32.896Z"
   },
   {
    "duration": 367,
    "start_time": "2021-11-02T11:17:14.168Z"
   },
   {
    "duration": 434,
    "start_time": "2021-11-02T11:17:31.914Z"
   },
   {
    "duration": 16,
    "start_time": "2021-11-02T11:19:19.703Z"
   },
   {
    "duration": 1622,
    "start_time": "2021-11-02T11:19:43.385Z"
   },
   {
    "duration": 17,
    "start_time": "2021-11-02T11:20:07.665Z"
   },
   {
    "duration": 4,
    "start_time": "2021-11-02T11:25:38.366Z"
   },
   {
    "duration": 603,
    "start_time": "2021-11-02T11:27:24.602Z"
   },
   {
    "duration": 709,
    "start_time": "2021-11-02T11:28:56.194Z"
   },
   {
    "duration": 355,
    "start_time": "2021-11-02T11:29:41.140Z"
   },
   {
    "duration": 5461,
    "start_time": "2021-11-02T11:29:46.606Z"
   },
   {
    "duration": 5624,
    "start_time": "2021-11-02T11:30:09.061Z"
   },
   {
    "duration": 46,
    "start_time": "2021-11-02T11:30:29.962Z"
   },
   {
    "duration": 390,
    "start_time": "2021-11-02T11:30:44.514Z"
   },
   {
    "duration": 51,
    "start_time": "2021-11-02T11:30:50.513Z"
   },
   {
    "duration": 49,
    "start_time": "2021-11-02T11:31:21.241Z"
   },
   {
    "duration": 55,
    "start_time": "2021-11-02T11:31:30.997Z"
   },
   {
    "duration": 55,
    "start_time": "2021-11-02T11:31:55.253Z"
   },
   {
    "duration": 56,
    "start_time": "2021-11-02T11:38:31.087Z"
   },
   {
    "duration": 16,
    "start_time": "2021-11-02T11:40:02.322Z"
   },
   {
    "duration": 8,
    "start_time": "2021-11-02T11:40:03.038Z"
   },
   {
    "duration": 16,
    "start_time": "2021-11-02T11:40:47.871Z"
   },
   {
    "duration": 6,
    "start_time": "2021-11-02T11:40:49.737Z"
   },
   {
    "duration": 5,
    "start_time": "2021-11-02T11:40:52.756Z"
   },
   {
    "duration": 6,
    "start_time": "2021-11-02T11:40:53.197Z"
   },
   {
    "duration": 52,
    "start_time": "2021-11-02T11:40:54.150Z"
   },
   {
    "duration": 7,
    "start_time": "2021-11-02T12:20:44.437Z"
   },
   {
    "duration": 7,
    "start_time": "2021-11-02T12:21:16.780Z"
   },
   {
    "duration": 7,
    "start_time": "2021-11-02T12:21:24.193Z"
   },
   {
    "duration": 6,
    "start_time": "2021-11-02T12:22:59.865Z"
   },
   {
    "duration": 7,
    "start_time": "2021-11-02T12:23:11.222Z"
   },
   {
    "duration": 7,
    "start_time": "2021-11-02T12:23:51.214Z"
   },
   {
    "duration": 372,
    "start_time": "2021-11-02T12:25:04.985Z"
   },
   {
    "duration": 7,
    "start_time": "2021-11-02T12:25:12.777Z"
   },
   {
    "duration": 62,
    "start_time": "2021-11-02T12:37:38.586Z"
   },
   {
    "duration": 657,
    "start_time": "2021-11-03T00:36:32.549Z"
   },
   {
    "duration": 11,
    "start_time": "2021-11-03T00:36:33.208Z"
   },
   {
    "duration": 8,
    "start_time": "2021-11-03T00:36:33.222Z"
   },
   {
    "duration": 14,
    "start_time": "2021-11-03T00:36:33.232Z"
   },
   {
    "duration": 8,
    "start_time": "2021-11-03T00:36:33.248Z"
   },
   {
    "duration": 6,
    "start_time": "2021-11-03T00:36:33.258Z"
   },
   {
    "duration": 12,
    "start_time": "2021-11-03T00:36:33.266Z"
   },
   {
    "duration": 17,
    "start_time": "2021-11-03T00:36:33.280Z"
   },
   {
    "duration": 57,
    "start_time": "2021-11-03T00:36:33.299Z"
   },
   {
    "duration": 3574,
    "start_time": "2021-11-03T00:36:33.358Z"
   },
   {
    "duration": 24,
    "start_time": "2021-11-03T00:36:36.934Z"
   },
   {
    "duration": 725,
    "start_time": "2021-11-03T00:36:36.960Z"
   },
   {
    "duration": 13,
    "start_time": "2021-11-03T00:36:37.687Z"
   },
   {
    "duration": 7,
    "start_time": "2021-11-03T00:36:37.701Z"
   },
   {
    "duration": 6,
    "start_time": "2021-11-03T00:36:37.710Z"
   },
   {
    "duration": 29,
    "start_time": "2021-11-03T00:36:37.717Z"
   },
   {
    "duration": 60,
    "start_time": "2021-11-03T00:36:37.747Z"
   },
   {
    "duration": 6,
    "start_time": "2021-11-03T00:36:37.809Z"
   },
   {
    "duration": 62,
    "start_time": "2021-11-03T08:59:42.002Z"
   },
   {
    "duration": 1158,
    "start_time": "2021-11-03T09:30:48.960Z"
   },
   {
    "duration": 393,
    "start_time": "2021-11-03T09:31:10.360Z"
   },
   {
    "duration": 12,
    "start_time": "2021-11-03T09:31:12.495Z"
   },
   {
    "duration": 8,
    "start_time": "2021-11-03T09:31:12.913Z"
   },
   {
    "duration": 6,
    "start_time": "2021-11-03T09:31:13.299Z"
   },
   {
    "duration": 9,
    "start_time": "2021-11-03T09:31:14.108Z"
   },
   {
    "duration": 5,
    "start_time": "2021-11-03T09:31:15.182Z"
   },
   {
    "duration": 10,
    "start_time": "2021-11-03T09:31:15.384Z"
   },
   {
    "duration": 15,
    "start_time": "2021-11-03T09:31:16.043Z"
   },
   {
    "duration": 28,
    "start_time": "2021-11-03T09:31:16.250Z"
   },
   {
    "duration": 3609,
    "start_time": "2021-11-03T09:31:17.103Z"
   },
   {
    "duration": 198,
    "start_time": "2021-11-03T09:31:20.714Z"
   },
   {
    "duration": -1385,
    "start_time": "2021-11-03T09:31:22.299Z"
   },
   {
    "duration": 197,
    "start_time": "2021-11-03T09:32:13.839Z"
   },
   {
    "duration": 185,
    "start_time": "2021-11-03T09:33:00.611Z"
   },
   {
    "duration": 29,
    "start_time": "2021-11-03T09:33:04.780Z"
   },
   {
    "duration": 3405,
    "start_time": "2021-11-03T09:33:06.437Z"
   },
   {
    "duration": 191,
    "start_time": "2021-11-03T09:33:11.295Z"
   },
   {
    "duration": 196,
    "start_time": "2021-11-03T09:33:15.263Z"
   },
   {
    "duration": 4,
    "start_time": "2021-11-03T09:34:45.224Z"
   },
   {
    "duration": 4,
    "start_time": "2021-11-03T09:35:18.429Z"
   },
   {
    "duration": 3,
    "start_time": "2021-11-03T09:41:07.143Z"
   },
   {
    "duration": 3,
    "start_time": "2021-11-03T09:41:14.431Z"
   },
   {
    "duration": 474,
    "start_time": "2021-11-03T09:41:54.141Z"
   },
   {
    "duration": 7,
    "start_time": "2021-11-03T09:41:58.681Z"
   },
   {
    "duration": 4,
    "start_time": "2021-11-03T09:42:09.836Z"
   },
   {
    "duration": 4,
    "start_time": "2021-11-03T09:42:16.706Z"
   },
   {
    "duration": 5,
    "start_time": "2021-11-03T09:42:25.879Z"
   },
   {
    "duration": 4,
    "start_time": "2021-11-03T09:45:29.035Z"
   },
   {
    "duration": 19939,
    "start_time": "2021-11-03T09:45:47.052Z"
   },
   {
    "duration": 19698,
    "start_time": "2021-11-03T09:46:29.626Z"
   },
   {
    "duration": 59,
    "start_time": "2021-11-03T09:57:29.330Z"
   },
   {
    "duration": 63,
    "start_time": "2021-11-03T09:57:54.515Z"
   },
   {
    "duration": 632,
    "start_time": "2021-11-03T09:58:02.878Z"
   },
   {
    "duration": 657,
    "start_time": "2021-11-03T09:58:33.324Z"
   },
   {
    "duration": 636,
    "start_time": "2021-11-03T09:59:06.793Z"
   },
   {
    "duration": 665,
    "start_time": "2021-11-03T09:59:53.240Z"
   },
   {
    "duration": 454,
    "start_time": "2021-11-03T10:00:07.495Z"
   },
   {
    "duration": 630,
    "start_time": "2021-11-03T10:00:30.671Z"
   },
   {
    "duration": 712,
    "start_time": "2021-11-03T10:00:44.469Z"
   },
   {
    "duration": 809,
    "start_time": "2021-11-03T10:00:48.170Z"
   },
   {
    "duration": 671,
    "start_time": "2021-11-03T10:01:28.389Z"
   },
   {
    "duration": 624,
    "start_time": "2021-11-03T10:02:01.968Z"
   },
   {
    "duration": 630,
    "start_time": "2021-11-03T10:02:23.583Z"
   },
   {
    "duration": 695,
    "start_time": "2021-11-03T10:02:45.634Z"
   },
   {
    "duration": 634,
    "start_time": "2021-11-03T10:03:20.438Z"
   },
   {
    "duration": 709,
    "start_time": "2021-11-03T10:04:34.253Z"
   },
   {
    "duration": 13,
    "start_time": "2021-11-03T10:07:16.656Z"
   },
   {
    "duration": 7,
    "start_time": "2021-11-03T10:07:48.241Z"
   },
   {
    "duration": 9,
    "start_time": "2021-11-03T10:11:35.168Z"
   },
   {
    "duration": 689,
    "start_time": "2021-11-03T10:11:52.632Z"
   },
   {
    "duration": 3,
    "start_time": "2021-11-03T10:12:00.640Z"
   },
   {
    "duration": 9,
    "start_time": "2021-11-03T10:12:02.277Z"
   },
   {
    "duration": 9,
    "start_time": "2021-11-03T10:12:40.310Z"
   },
   {
    "duration": 14,
    "start_time": "2021-11-03T10:12:45.130Z"
   },
   {
    "duration": 9,
    "start_time": "2021-11-03T10:13:04.432Z"
   },
   {
    "duration": 9,
    "start_time": "2021-11-03T10:14:14.749Z"
   },
   {
    "duration": 6,
    "start_time": "2021-11-03T10:14:23.744Z"
   },
   {
    "duration": 184,
    "start_time": "2021-11-03T10:15:01.037Z"
   },
   {
    "duration": 7,
    "start_time": "2021-11-03T10:15:15.814Z"
   },
   {
    "duration": 241,
    "start_time": "2021-11-03T10:15:30.337Z"
   },
   {
    "duration": 7,
    "start_time": "2021-11-03T10:15:35.128Z"
   },
   {
    "duration": 6,
    "start_time": "2021-11-03T10:15:54.462Z"
   },
   {
    "duration": 7,
    "start_time": "2021-11-03T10:16:03.482Z"
   },
   {
    "duration": 10,
    "start_time": "2021-11-03T10:16:52.488Z"
   },
   {
    "duration": 8,
    "start_time": "2021-11-03T10:17:38.240Z"
   },
   {
    "duration": 11,
    "start_time": "2021-11-03T10:17:44.274Z"
   },
   {
    "duration": 176,
    "start_time": "2021-11-03T10:18:05.984Z"
   },
   {
    "duration": 11,
    "start_time": "2021-11-03T10:18:10.987Z"
   },
   {
    "duration": 10,
    "start_time": "2021-11-03T10:20:07.193Z"
   },
   {
    "duration": 5,
    "start_time": "2021-11-03T10:20:24.798Z"
   },
   {
    "duration": 10,
    "start_time": "2021-11-03T10:20:25.286Z"
   },
   {
    "duration": 187,
    "start_time": "2021-11-03T10:20:32.242Z"
   },
   {
    "duration": 9,
    "start_time": "2021-11-03T10:22:28.551Z"
   },
   {
    "duration": 9,
    "start_time": "2021-11-03T10:23:34.452Z"
   },
   {
    "duration": 10,
    "start_time": "2021-11-03T10:23:50.665Z"
   },
   {
    "duration": 5290,
    "start_time": "2021-11-03T10:25:33.577Z"
   },
   {
    "duration": 4839,
    "start_time": "2021-11-03T10:25:41.194Z"
   },
   {
    "duration": 4332,
    "start_time": "2021-11-03T10:26:09.571Z"
   },
   {
    "duration": 4237,
    "start_time": "2021-11-03T10:26:21.415Z"
   },
   {
    "duration": 4280,
    "start_time": "2021-11-03T10:29:05.123Z"
   },
   {
    "duration": 4314,
    "start_time": "2021-11-03T10:30:13.793Z"
   },
   {
    "duration": 188,
    "start_time": "2021-11-03T10:30:35.003Z"
   },
   {
    "duration": 18,
    "start_time": "2021-11-03T10:31:06.530Z"
   },
   {
    "duration": 10,
    "start_time": "2021-11-03T10:32:02.505Z"
   },
   {
    "duration": 178,
    "start_time": "2021-11-03T10:32:29.275Z"
   },
   {
    "duration": 19731,
    "start_time": "2021-11-03T10:32:34.987Z"
   },
   {
    "duration": 12,
    "start_time": "2021-11-03T10:34:21.718Z"
   },
   {
    "duration": 649,
    "start_time": "2021-11-03T10:34:51.062Z"
   },
   {
    "duration": 12,
    "start_time": "2021-11-03T10:34:51.713Z"
   },
   {
    "duration": 15,
    "start_time": "2021-11-03T10:34:51.727Z"
   },
   {
    "duration": 4,
    "start_time": "2021-11-03T10:34:51.744Z"
   },
   {
    "duration": 15,
    "start_time": "2021-11-03T10:34:51.750Z"
   },
   {
    "duration": 14,
    "start_time": "2021-11-03T10:34:51.767Z"
   },
   {
    "duration": 15,
    "start_time": "2021-11-03T10:34:51.782Z"
   },
   {
    "duration": 20,
    "start_time": "2021-11-03T10:34:51.799Z"
   },
   {
    "duration": 28,
    "start_time": "2021-11-03T10:34:51.821Z"
   },
   {
    "duration": 3340,
    "start_time": "2021-11-03T10:34:51.850Z"
   },
   {
    "duration": 683,
    "start_time": "2021-11-03T10:34:55.192Z"
   },
   {
    "duration": 4,
    "start_time": "2021-11-03T10:34:55.876Z"
   },
   {
    "duration": 19259,
    "start_time": "2021-11-03T10:34:55.881Z"
   },
   {
    "duration": 13,
    "start_time": "2021-11-03T10:35:15.142Z"
   },
   {
    "duration": 727,
    "start_time": "2021-11-03T10:35:15.156Z"
   },
   {
    "duration": 279,
    "start_time": "2021-11-03T10:35:15.885Z"
   },
   {
    "duration": -1409,
    "start_time": "2021-11-03T10:35:17.575Z"
   },
   {
    "duration": -1410,
    "start_time": "2021-11-03T10:35:17.577Z"
   },
   {
    "duration": -1411,
    "start_time": "2021-11-03T10:35:17.579Z"
   },
   {
    "duration": -1418,
    "start_time": "2021-11-03T10:35:17.587Z"
   },
   {
    "duration": 10,
    "start_time": "2021-11-03T10:36:31.972Z"
   },
   {
    "duration": 194,
    "start_time": "2021-11-03T10:36:37.420Z"
   },
   {
    "duration": 5,
    "start_time": "2021-11-03T10:36:43.665Z"
   },
   {
    "duration": 201,
    "start_time": "2021-11-03T10:36:49.869Z"
   },
   {
    "duration": 16,
    "start_time": "2021-11-03T10:37:07.307Z"
   },
   {
    "duration": 13,
    "start_time": "2021-11-03T10:37:12.825Z"
   },
   {
    "duration": 13,
    "start_time": "2021-11-03T10:37:37.435Z"
   },
   {
    "duration": 59,
    "start_time": "2021-11-03T10:50:14.188Z"
   },
   {
    "duration": 177,
    "start_time": "2021-11-03T10:50:56.142Z"
   },
   {
    "duration": 7,
    "start_time": "2021-11-03T10:51:04.061Z"
   },
   {
    "duration": 10,
    "start_time": "2021-11-03T10:51:17.397Z"
   },
   {
    "duration": 646,
    "start_time": "2021-11-03T10:55:00.386Z"
   },
   {
    "duration": 11,
    "start_time": "2021-11-03T10:55:01.033Z"
   },
   {
    "duration": 14,
    "start_time": "2021-11-03T10:55:01.046Z"
   },
   {
    "duration": 10,
    "start_time": "2021-11-03T10:55:01.062Z"
   },
   {
    "duration": 27,
    "start_time": "2021-11-03T10:55:01.073Z"
   },
   {
    "duration": 15,
    "start_time": "2021-11-03T10:55:01.102Z"
   },
   {
    "duration": 35,
    "start_time": "2021-11-03T10:55:01.119Z"
   },
   {
    "duration": 46,
    "start_time": "2021-11-03T10:55:01.157Z"
   },
   {
    "duration": 32,
    "start_time": "2021-11-03T10:55:01.205Z"
   },
   {
    "duration": 3460,
    "start_time": "2021-11-03T10:55:01.239Z"
   },
   {
    "duration": 568,
    "start_time": "2021-11-03T10:55:04.701Z"
   },
   {
    "duration": 3,
    "start_time": "2021-11-03T10:55:05.271Z"
   },
   {
    "duration": 18886,
    "start_time": "2021-11-03T10:55:05.276Z"
   },
   {
    "duration": 13,
    "start_time": "2021-11-03T10:55:24.164Z"
   },
   {
    "duration": 744,
    "start_time": "2021-11-03T10:55:24.179Z"
   },
   {
    "duration": 13,
    "start_time": "2021-11-03T10:55:24.924Z"
   },
   {
    "duration": 5,
    "start_time": "2021-11-03T10:55:24.939Z"
   },
   {
    "duration": 18,
    "start_time": "2021-11-03T10:55:24.945Z"
   },
   {
    "duration": 28,
    "start_time": "2021-11-03T10:55:24.964Z"
   },
   {
    "duration": 8,
    "start_time": "2021-11-03T10:55:24.994Z"
   },
   {
    "duration": 652,
    "start_time": "2021-11-03T16:06:45.495Z"
   },
   {
    "duration": 998,
    "start_time": "2021-11-03T16:08:16.391Z"
   },
   {
    "duration": 17,
    "start_time": "2021-11-03T16:08:19.025Z"
   },
   {
    "duration": 12,
    "start_time": "2021-11-03T16:08:19.575Z"
   },
   {
    "duration": 9,
    "start_time": "2021-11-03T16:08:19.938Z"
   },
   {
    "duration": 14,
    "start_time": "2021-11-03T16:08:20.497Z"
   },
   {
    "duration": 6,
    "start_time": "2021-11-03T16:08:21.161Z"
   },
   {
    "duration": 18,
    "start_time": "2021-11-03T16:08:21.783Z"
   },
   {
    "duration": 22,
    "start_time": "2021-11-03T16:08:22.560Z"
   },
   {
    "duration": 50,
    "start_time": "2021-11-03T16:08:22.902Z"
   },
   {
    "duration": 5001,
    "start_time": "2021-11-03T16:08:23.869Z"
   },
   {
    "duration": 904,
    "start_time": "2021-11-03T16:08:29.742Z"
   },
   {
    "duration": 5,
    "start_time": "2021-11-03T16:08:30.649Z"
   },
   {
    "duration": 35185,
    "start_time": "2021-11-03T16:08:31.207Z"
   },
   {
    "duration": 22,
    "start_time": "2021-11-03T16:09:09.635Z"
   },
   {
    "duration": 1398,
    "start_time": "2021-11-03T16:09:11.204Z"
   },
   {
    "duration": 1003,
    "start_time": "2021-11-03T16:09:14.560Z"
   },
   {
    "duration": 492,
    "start_time": "2021-11-03T16:14:59.960Z"
   },
   {
    "duration": 62,
    "start_time": "2021-11-03T16:15:12.812Z"
   }
  ],
  "kernelspec": {
   "display_name": "Python 3 (ipykernel)",
   "language": "python",
   "name": "python3"
  },
  "language_info": {
   "codemirror_mode": {
    "name": "ipython",
    "version": 3
   },
   "file_extension": ".py",
   "mimetype": "text/x-python",
   "name": "python",
   "nbconvert_exporter": "python",
   "pygments_lexer": "ipython3",
   "version": "3.7.6"
  },
  "toc": {
   "base_numbering": 1,
   "nav_menu": {},
   "number_sections": true,
   "sideBar": true,
   "skip_h1_title": true,
   "title_cell": "Table of Contents",
   "title_sidebar": "Contents",
   "toc_cell": false,
   "toc_position": {},
   "toc_section_display": true,
   "toc_window_display": false
  }
 },
 "nbformat": 4,
 "nbformat_minor": 2
}
